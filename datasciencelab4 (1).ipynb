{
  "cells": [
    {
      "cell_type": "markdown",
      "metadata": {
        "id": "2TpdDdde_z6E"
      },
      "source": [
        "# Naive Bayes Classification Algorithm (NB) is a supervised classification method;\n",
        "This method depends [Naive Bayes probability Theorem](https://www.analyticsvidhya.com/blog/2017/09/naive-bayes-explained/).\n",
        "\n",
        "<br>\n",
        "\n",
        "# Naive Bayes Algorithms:\n",
        "\n",
        "<p align=\"center\">\n",
        "  <img src=\"https://lh6.googleusercontent.com/hc3ptE75B9JmKvfwDkGh4775HwZhNcx0D1FjkDSujuh9ba6wqZMvo56Xfk4H7aLh4FfQcproHsS_x1gTUM3fdmiPVmljIKMYJVoxTUOEAe386ok7TfAqXKcb8-oMA5LR4rDE_6TS\"   \n",
        "        alt=\"Picture\"\n",
        "        width=\"400\"\n",
        "        height=\"300\"\n",
        "p>\n",
        "\n",
        "\n",
        "\n",
        "it may used for:\n",
        "* Face Recognition:\n",
        ">  * Identity detection; is it Louis or not, or\n",
        ">  * feature recognition; nose, eyes, mouth..etc.\n",
        "* Weather Prediction:\n",
        "> * rainy weather or not\n",
        "* Medical Diagnosis:[ref.](https://jamanetwork.com/journals/jamaoncology/fullarticle/2768634#:~:text=Malignant%20tumors%20have%20cells%20that,This%20spread%20is%20called%20metastasis.)\n",
        "> * Miligant (high-risk) or Benign (not-as-hight risk)\n",
        "* News recognations, :\n",
        "> * google news wether its Political or is World news) [Example](https://pianalytix.com/text-classification-using-multinomial-naive-bayes/)\n",
        "* Email recognition\n",
        "> * Spam or Not-Spam\n",
        "\n",
        "* Auter style detection... etc.\n",
        "<br>\n",
        "\n",
        "\n",
        "**Note**: This algorithm works appropriately with categorical data, however we can use it for continuous dataset (after **Descritization**)\n",
        "\n",
        "\n",
        "\n",
        "<br>\n",
        "\n",
        "# Naive Bayes Algorithms:\n",
        "\n",
        "<p align=\"center\">\n",
        "  <img src=\"https://media.licdn.com/dms/image/C4D12AQE0o7wnq6wTGA/article-inline_image-shrink_1000_1488/0/1632786935533?e=1694044800&v=beta&t=DnnptuGM2TABkh1wK76sny_XH8cEqzh0C1Qo9oL9Cmw\"\n",
        "        alt=\"Picture\"\n",
        "        width=\"500\"\n",
        "        height=\"300\"\n",
        "p>\n",
        "\n",
        "\n",
        "\n",
        "**The Multinomial Naive Bayes**\n",
        "\n",
        "method is a common Bayesian learning approach in **natural language processing** or text classification. Using the Bayes theorem, the program estimates the tag of a text, such as an <u>email</u> or a <u>newspaper piece</u>. It assesses the likelihood of each tag for a given sample and returns the tag with the highest possibility.\n",
        "![image](https://ekamperi.github.io/images/naive_bayes/naive_bayes_piecewise.png)\n",
        "\n",
        "**The Bernoulli Naive Bayes**\n",
        "\n",
        "is a part of the family of Naive Bayes. It only takes **binary values**. There may be multiple features, but each is assumed to be a binary-valued variable. Therefore, this class requires samples to be represented as binary-valued feature vectors.[more information in this link](https://metafunctor.com/post/bernoulli-boolean-model/)\n",
        "\n",
        "\n",
        "<p align=\"center\">\n",
        "  <img src=\"https://miro.medium.com/v2/resize:fit:1200/0*MgG8zoCB6CY4Fa19.gif\"\n",
        "        alt=\"Picture\"\n",
        "        width=\"500\"\n",
        "        height=\"300\"\n",
        "p>\n",
        "\n",
        "\n",
        "\n",
        "**The Gaussian Naive Bayes**\n",
        "\n",
        "is a variant of Naive Bayes that follows Gaussian normal distribution and supports continuous data. To build a simple model using Gaussian Naive Bayes, we assume the data is characterized by a Gaussian distribution with no covariance (independent dimensions) between the parameters. This model may be fit simply by calculating the mean and standard deviation of the points within each label.<br>\n",
        "\n",
        "\n",
        "<p align=\"center\">\n",
        "  <img src=\"https://encrypted-tbn0.gstatic.com/images?q=tbn:ANd9GcQ6Ugc17UjVG9LbTC6NmG1kbOlg-FGFDsFD6A&usqp=CAU\"\n",
        "        alt=\"Picture\"\n",
        "        width=\"500\"\n",
        "        height=\"300\"\n",
        "p>\n",
        "\n",
        "\n",
        "<br>\n",
        "\n",
        "<p align=\"left\">\n",
        "  <img src=\"https://www.researchgate.net/profile/Berke-Akkaya/publication/338950098/figure/tbl3/AS:1006670440316928@1617020344007/Gaussian-Naive-Bayes-Advantages-and-Disadvantages.png\"\n",
        "        alt=\"Picture\"\n",
        "        width=\"500\"\n",
        "        height=\"300\"\n",
        "p>\n",
        "\n",
        "\n"
      ]
    },
    {
      "cell_type": "markdown",
      "metadata": {
        "id": "rKqHT6zD3Rpg"
      },
      "source": [
        "**Importing modules**"
      ]
    },
    {
      "cell_type": "code",
      "execution_count": null,
      "metadata": {
        "id": "0JFF7SGeq2nF"
      },
      "outputs": [],
      "source": [
        "# importing the libraries\n",
        "import numpy as np\n",
        "import pandas as pd\n",
        "import seaborn as sns\n",
        "\n",
        "import matplotlib.pyplot as plt\n",
        "%matplotlib inline"
      ]
    },
    {
      "cell_type": "markdown",
      "metadata": {
        "id": "CAscntH43UXz"
      },
      "source": [
        "**import the data set and split the data sets into inputs and outputs.**"
      ]
    },
    {
      "cell_type": "code",
      "source": [
        "from google.colab import drive\n",
        "drive.mount('/content/drive')"
      ],
      "metadata": {
        "colab": {
          "base_uri": "https://localhost:8080/"
        },
        "id": "4Uvpy0OjUySe",
        "outputId": "f2720cb7-cca8-4321-822f-df8cfc5b1f15"
      },
      "execution_count": null,
      "outputs": [
        {
          "output_type": "stream",
          "name": "stdout",
          "text": [
            "Drive already mounted at /content/drive; to attempt to forcibly remount, call drive.mount(\"/content/drive\", force_remount=True).\n"
          ]
        }
      ]
    },
    {
      "cell_type": "code",
      "execution_count": null,
      "metadata": {
        "id": "wu1dXxlB3aMc",
        "colab": {
          "base_uri": "https://localhost:8080/",
          "height": 300
        },
        "outputId": "ba05380e-9e54-4459-b3dc-b01a34d433e2"
      },
      "outputs": [
        {
          "output_type": "error",
          "ename": "UnicodeDecodeError",
          "evalue": "ignored",
          "traceback": [
            "\u001b[0;31m---------------------------------------------------------------------------\u001b[0m",
            "\u001b[0;31mUnicodeDecodeError\u001b[0m                        Traceback (most recent call last)",
            "\u001b[0;32m<ipython-input-23-43dc50c421ec>\u001b[0m in \u001b[0;36m<cell line: 3>\u001b[0;34m()\u001b[0m\n\u001b[1;32m      1\u001b[0m \u001b[0;31m# importing the dataset\u001b[0m\u001b[0;34m\u001b[0m\u001b[0;34m\u001b[0m\u001b[0m\n\u001b[1;32m      2\u001b[0m \u001b[0mpath\u001b[0m\u001b[0;34m=\u001b[0m\u001b[0;34m'/content/drive/MyDrive/data science/'\u001b[0m\u001b[0;34m\u001b[0m\u001b[0;34m\u001b[0m\u001b[0m\n\u001b[0;32m----> 3\u001b[0;31m \u001b[0mdataset\u001b[0m \u001b[0;34m=\u001b[0m \u001b[0mpd\u001b[0m\u001b[0;34m.\u001b[0m\u001b[0mread_csv\u001b[0m\u001b[0;34m(\u001b[0m\u001b[0mpath\u001b[0m\u001b[0;34m+\u001b[0m \u001b[0;34m'NaiveBayes.csv'\u001b[0m\u001b[0;34m)\u001b[0m\u001b[0;34m\u001b[0m\u001b[0;34m\u001b[0m\u001b[0m\n\u001b[0m\u001b[1;32m      4\u001b[0m \u001b[0;34m\u001b[0m\u001b[0m\n\u001b[1;32m      5\u001b[0m \u001b[0;31m# split the data into inputs and outputs\u001b[0m\u001b[0;34m\u001b[0m\u001b[0;34m\u001b[0m\u001b[0m\n",
            "\u001b[0;32m/usr/local/lib/python3.10/dist-packages/pandas/util/_decorators.py\u001b[0m in \u001b[0;36mwrapper\u001b[0;34m(*args, **kwargs)\u001b[0m\n\u001b[1;32m    209\u001b[0m                 \u001b[0;32melse\u001b[0m\u001b[0;34m:\u001b[0m\u001b[0;34m\u001b[0m\u001b[0;34m\u001b[0m\u001b[0m\n\u001b[1;32m    210\u001b[0m                     \u001b[0mkwargs\u001b[0m\u001b[0;34m[\u001b[0m\u001b[0mnew_arg_name\u001b[0m\u001b[0;34m]\u001b[0m \u001b[0;34m=\u001b[0m \u001b[0mnew_arg_value\u001b[0m\u001b[0;34m\u001b[0m\u001b[0;34m\u001b[0m\u001b[0m\n\u001b[0;32m--> 211\u001b[0;31m             \u001b[0;32mreturn\u001b[0m \u001b[0mfunc\u001b[0m\u001b[0;34m(\u001b[0m\u001b[0;34m*\u001b[0m\u001b[0margs\u001b[0m\u001b[0;34m,\u001b[0m \u001b[0;34m**\u001b[0m\u001b[0mkwargs\u001b[0m\u001b[0;34m)\u001b[0m\u001b[0;34m\u001b[0m\u001b[0;34m\u001b[0m\u001b[0m\n\u001b[0m\u001b[1;32m    212\u001b[0m \u001b[0;34m\u001b[0m\u001b[0m\n\u001b[1;32m    213\u001b[0m         \u001b[0;32mreturn\u001b[0m \u001b[0mcast\u001b[0m\u001b[0;34m(\u001b[0m\u001b[0mF\u001b[0m\u001b[0;34m,\u001b[0m \u001b[0mwrapper\u001b[0m\u001b[0;34m)\u001b[0m\u001b[0;34m\u001b[0m\u001b[0;34m\u001b[0m\u001b[0m\n",
            "\u001b[0;32m/usr/local/lib/python3.10/dist-packages/pandas/util/_decorators.py\u001b[0m in \u001b[0;36mwrapper\u001b[0;34m(*args, **kwargs)\u001b[0m\n\u001b[1;32m    329\u001b[0m                     \u001b[0mstacklevel\u001b[0m\u001b[0;34m=\u001b[0m\u001b[0mfind_stack_level\u001b[0m\u001b[0;34m(\u001b[0m\u001b[0;34m)\u001b[0m\u001b[0;34m,\u001b[0m\u001b[0;34m\u001b[0m\u001b[0;34m\u001b[0m\u001b[0m\n\u001b[1;32m    330\u001b[0m                 )\n\u001b[0;32m--> 331\u001b[0;31m             \u001b[0;32mreturn\u001b[0m \u001b[0mfunc\u001b[0m\u001b[0;34m(\u001b[0m\u001b[0;34m*\u001b[0m\u001b[0margs\u001b[0m\u001b[0;34m,\u001b[0m \u001b[0;34m**\u001b[0m\u001b[0mkwargs\u001b[0m\u001b[0;34m)\u001b[0m\u001b[0;34m\u001b[0m\u001b[0;34m\u001b[0m\u001b[0m\n\u001b[0m\u001b[1;32m    332\u001b[0m \u001b[0;34m\u001b[0m\u001b[0m\n\u001b[1;32m    333\u001b[0m         \u001b[0;31m# error: \"Callable[[VarArg(Any), KwArg(Any)], Any]\" has no\u001b[0m\u001b[0;34m\u001b[0m\u001b[0;34m\u001b[0m\u001b[0m\n",
            "\u001b[0;32m/usr/local/lib/python3.10/dist-packages/pandas/io/parsers/readers.py\u001b[0m in \u001b[0;36mread_csv\u001b[0;34m(filepath_or_buffer, sep, delimiter, header, names, index_col, usecols, squeeze, prefix, mangle_dupe_cols, dtype, engine, converters, true_values, false_values, skipinitialspace, skiprows, skipfooter, nrows, na_values, keep_default_na, na_filter, verbose, skip_blank_lines, parse_dates, infer_datetime_format, keep_date_col, date_parser, dayfirst, cache_dates, iterator, chunksize, compression, thousands, decimal, lineterminator, quotechar, quoting, doublequote, escapechar, comment, encoding, encoding_errors, dialect, error_bad_lines, warn_bad_lines, on_bad_lines, delim_whitespace, low_memory, memory_map, float_precision, storage_options)\u001b[0m\n\u001b[1;32m    948\u001b[0m     \u001b[0mkwds\u001b[0m\u001b[0;34m.\u001b[0m\u001b[0mupdate\u001b[0m\u001b[0;34m(\u001b[0m\u001b[0mkwds_defaults\u001b[0m\u001b[0;34m)\u001b[0m\u001b[0;34m\u001b[0m\u001b[0;34m\u001b[0m\u001b[0m\n\u001b[1;32m    949\u001b[0m \u001b[0;34m\u001b[0m\u001b[0m\n\u001b[0;32m--> 950\u001b[0;31m     \u001b[0;32mreturn\u001b[0m \u001b[0m_read\u001b[0m\u001b[0;34m(\u001b[0m\u001b[0mfilepath_or_buffer\u001b[0m\u001b[0;34m,\u001b[0m \u001b[0mkwds\u001b[0m\u001b[0;34m)\u001b[0m\u001b[0;34m\u001b[0m\u001b[0;34m\u001b[0m\u001b[0m\n\u001b[0m\u001b[1;32m    951\u001b[0m \u001b[0;34m\u001b[0m\u001b[0m\n\u001b[1;32m    952\u001b[0m \u001b[0;34m\u001b[0m\u001b[0m\n",
            "\u001b[0;32m/usr/local/lib/python3.10/dist-packages/pandas/io/parsers/readers.py\u001b[0m in \u001b[0;36m_read\u001b[0;34m(filepath_or_buffer, kwds)\u001b[0m\n\u001b[1;32m    603\u001b[0m \u001b[0;34m\u001b[0m\u001b[0m\n\u001b[1;32m    604\u001b[0m     \u001b[0;31m# Create the parser.\u001b[0m\u001b[0;34m\u001b[0m\u001b[0;34m\u001b[0m\u001b[0m\n\u001b[0;32m--> 605\u001b[0;31m     \u001b[0mparser\u001b[0m \u001b[0;34m=\u001b[0m \u001b[0mTextFileReader\u001b[0m\u001b[0;34m(\u001b[0m\u001b[0mfilepath_or_buffer\u001b[0m\u001b[0;34m,\u001b[0m \u001b[0;34m**\u001b[0m\u001b[0mkwds\u001b[0m\u001b[0;34m)\u001b[0m\u001b[0;34m\u001b[0m\u001b[0;34m\u001b[0m\u001b[0m\n\u001b[0m\u001b[1;32m    606\u001b[0m \u001b[0;34m\u001b[0m\u001b[0m\n\u001b[1;32m    607\u001b[0m     \u001b[0;32mif\u001b[0m \u001b[0mchunksize\u001b[0m \u001b[0;32mor\u001b[0m \u001b[0miterator\u001b[0m\u001b[0;34m:\u001b[0m\u001b[0;34m\u001b[0m\u001b[0;34m\u001b[0m\u001b[0m\n",
            "\u001b[0;32m/usr/local/lib/python3.10/dist-packages/pandas/io/parsers/readers.py\u001b[0m in \u001b[0;36m__init__\u001b[0;34m(self, f, engine, **kwds)\u001b[0m\n\u001b[1;32m   1440\u001b[0m \u001b[0;34m\u001b[0m\u001b[0m\n\u001b[1;32m   1441\u001b[0m         \u001b[0mself\u001b[0m\u001b[0;34m.\u001b[0m\u001b[0mhandles\u001b[0m\u001b[0;34m:\u001b[0m \u001b[0mIOHandles\u001b[0m \u001b[0;34m|\u001b[0m \u001b[0;32mNone\u001b[0m \u001b[0;34m=\u001b[0m \u001b[0;32mNone\u001b[0m\u001b[0;34m\u001b[0m\u001b[0;34m\u001b[0m\u001b[0m\n\u001b[0;32m-> 1442\u001b[0;31m         \u001b[0mself\u001b[0m\u001b[0;34m.\u001b[0m\u001b[0m_engine\u001b[0m \u001b[0;34m=\u001b[0m \u001b[0mself\u001b[0m\u001b[0;34m.\u001b[0m\u001b[0m_make_engine\u001b[0m\u001b[0;34m(\u001b[0m\u001b[0mf\u001b[0m\u001b[0;34m,\u001b[0m \u001b[0mself\u001b[0m\u001b[0;34m.\u001b[0m\u001b[0mengine\u001b[0m\u001b[0;34m)\u001b[0m\u001b[0;34m\u001b[0m\u001b[0;34m\u001b[0m\u001b[0m\n\u001b[0m\u001b[1;32m   1443\u001b[0m \u001b[0;34m\u001b[0m\u001b[0m\n\u001b[1;32m   1444\u001b[0m     \u001b[0;32mdef\u001b[0m \u001b[0mclose\u001b[0m\u001b[0;34m(\u001b[0m\u001b[0mself\u001b[0m\u001b[0;34m)\u001b[0m \u001b[0;34m->\u001b[0m \u001b[0;32mNone\u001b[0m\u001b[0;34m:\u001b[0m\u001b[0;34m\u001b[0m\u001b[0;34m\u001b[0m\u001b[0m\n",
            "\u001b[0;32m/usr/local/lib/python3.10/dist-packages/pandas/io/parsers/readers.py\u001b[0m in \u001b[0;36m_make_engine\u001b[0;34m(self, f, engine)\u001b[0m\n\u001b[1;32m   1751\u001b[0m \u001b[0;34m\u001b[0m\u001b[0m\n\u001b[1;32m   1752\u001b[0m         \u001b[0;32mtry\u001b[0m\u001b[0;34m:\u001b[0m\u001b[0;34m\u001b[0m\u001b[0;34m\u001b[0m\u001b[0m\n\u001b[0;32m-> 1753\u001b[0;31m             \u001b[0;32mreturn\u001b[0m \u001b[0mmapping\u001b[0m\u001b[0;34m[\u001b[0m\u001b[0mengine\u001b[0m\u001b[0;34m]\u001b[0m\u001b[0;34m(\u001b[0m\u001b[0mf\u001b[0m\u001b[0;34m,\u001b[0m \u001b[0;34m**\u001b[0m\u001b[0mself\u001b[0m\u001b[0;34m.\u001b[0m\u001b[0moptions\u001b[0m\u001b[0;34m)\u001b[0m\u001b[0;34m\u001b[0m\u001b[0;34m\u001b[0m\u001b[0m\n\u001b[0m\u001b[1;32m   1754\u001b[0m         \u001b[0;32mexcept\u001b[0m \u001b[0mException\u001b[0m\u001b[0;34m:\u001b[0m\u001b[0;34m\u001b[0m\u001b[0;34m\u001b[0m\u001b[0m\n\u001b[1;32m   1755\u001b[0m             \u001b[0;32mif\u001b[0m \u001b[0mself\u001b[0m\u001b[0;34m.\u001b[0m\u001b[0mhandles\u001b[0m \u001b[0;32mis\u001b[0m \u001b[0;32mnot\u001b[0m \u001b[0;32mNone\u001b[0m\u001b[0;34m:\u001b[0m\u001b[0;34m\u001b[0m\u001b[0;34m\u001b[0m\u001b[0m\n",
            "\u001b[0;32m/usr/local/lib/python3.10/dist-packages/pandas/io/parsers/c_parser_wrapper.py\u001b[0m in \u001b[0;36m__init__\u001b[0;34m(self, src, **kwds)\u001b[0m\n\u001b[1;32m     77\u001b[0m \u001b[0;34m\u001b[0m\u001b[0m\n\u001b[1;32m     78\u001b[0m         \u001b[0mkwds\u001b[0m\u001b[0;34m[\u001b[0m\u001b[0;34m\"dtype\"\u001b[0m\u001b[0;34m]\u001b[0m \u001b[0;34m=\u001b[0m \u001b[0mensure_dtype_objs\u001b[0m\u001b[0;34m(\u001b[0m\u001b[0mkwds\u001b[0m\u001b[0;34m.\u001b[0m\u001b[0mget\u001b[0m\u001b[0;34m(\u001b[0m\u001b[0;34m\"dtype\"\u001b[0m\u001b[0;34m,\u001b[0m \u001b[0;32mNone\u001b[0m\u001b[0;34m)\u001b[0m\u001b[0;34m)\u001b[0m\u001b[0;34m\u001b[0m\u001b[0;34m\u001b[0m\u001b[0m\n\u001b[0;32m---> 79\u001b[0;31m         \u001b[0mself\u001b[0m\u001b[0;34m.\u001b[0m\u001b[0m_reader\u001b[0m \u001b[0;34m=\u001b[0m \u001b[0mparsers\u001b[0m\u001b[0;34m.\u001b[0m\u001b[0mTextReader\u001b[0m\u001b[0;34m(\u001b[0m\u001b[0msrc\u001b[0m\u001b[0;34m,\u001b[0m \u001b[0;34m**\u001b[0m\u001b[0mkwds\u001b[0m\u001b[0;34m)\u001b[0m\u001b[0;34m\u001b[0m\u001b[0;34m\u001b[0m\u001b[0m\n\u001b[0m\u001b[1;32m     80\u001b[0m \u001b[0;34m\u001b[0m\u001b[0m\n\u001b[1;32m     81\u001b[0m         \u001b[0mself\u001b[0m\u001b[0;34m.\u001b[0m\u001b[0munnamed_cols\u001b[0m \u001b[0;34m=\u001b[0m \u001b[0mself\u001b[0m\u001b[0;34m.\u001b[0m\u001b[0m_reader\u001b[0m\u001b[0;34m.\u001b[0m\u001b[0munnamed_cols\u001b[0m\u001b[0;34m\u001b[0m\u001b[0;34m\u001b[0m\u001b[0m\n",
            "\u001b[0;32m/usr/local/lib/python3.10/dist-packages/pandas/_libs/parsers.pyx\u001b[0m in \u001b[0;36mpandas._libs.parsers.TextReader.__cinit__\u001b[0;34m()\u001b[0m\n",
            "\u001b[0;32m/usr/local/lib/python3.10/dist-packages/pandas/_libs/parsers.pyx\u001b[0m in \u001b[0;36mpandas._libs.parsers.TextReader._get_header\u001b[0;34m()\u001b[0m\n",
            "\u001b[0;32m/usr/local/lib/python3.10/dist-packages/pandas/_libs/parsers.pyx\u001b[0m in \u001b[0;36mpandas._libs.parsers.TextReader._tokenize_rows\u001b[0;34m()\u001b[0m\n",
            "\u001b[0;32m/usr/local/lib/python3.10/dist-packages/pandas/_libs/parsers.pyx\u001b[0m in \u001b[0;36mpandas._libs.parsers.raise_parser_error\u001b[0;34m()\u001b[0m\n",
            "\u001b[0;31mUnicodeDecodeError\u001b[0m: 'utf-8' codec can't decode bytes in position 15-16: invalid continuation byte"
          ]
        }
      ],
      "source": [
        "# importing the dataset\n",
        "path='/content/drive/MyDrive/data science/'\n",
        "dataset = pd.read_csv(path+ 'NaiveBayes.csv')\n",
        "\n",
        "# split the data into inputs and outputs\n",
        "X=dataset[['Age','Salary']]\n",
        "y=dataset['Purchased']\n",
        "# X = dataset.iloc[:, [0,1]].values\n",
        "# y = dataset.iloc[:, 2].values"
      ]
    },
    {
      "cell_type": "code",
      "source": [
        "dataset"
      ],
      "metadata": {
        "colab": {
          "base_uri": "https://localhost:8080/",
          "height": 169
        },
        "id": "BsEf4obHX7qi",
        "outputId": "f878df10-fa55-4346-ed19-a0833c15fb62"
      },
      "execution_count": null,
      "outputs": [
        {
          "output_type": "error",
          "ename": "NameError",
          "evalue": "ignored",
          "traceback": [
            "\u001b[0;31m---------------------------------------------------------------------------\u001b[0m",
            "\u001b[0;31mNameError\u001b[0m                                 Traceback (most recent call last)",
            "\u001b[0;32m<ipython-input-15-3075b36c09c8>\u001b[0m in \u001b[0;36m<cell line: 1>\u001b[0;34m()\u001b[0m\n\u001b[0;32m----> 1\u001b[0;31m \u001b[0mdataset\u001b[0m\u001b[0;34m\u001b[0m\u001b[0;34m\u001b[0m\u001b[0m\n\u001b[0m",
            "\u001b[0;31mNameError\u001b[0m: name 'dataset' is not defined"
          ]
        }
      ]
    },
    {
      "cell_type": "code",
      "source": [
        "plt.scatter(dataset[['Age']], dataset[['Salary']], c=y, s=10, cmap='PiYG' )\n",
        "lim = plt.axis()\n",
        "plt.scatter(dataset[['Age']], dataset[['Salary']], c=y, s=20, cmap='RdBu', alpha=0.1)\n",
        "plt.show();\n",
        "\n"
      ],
      "metadata": {
        "id": "qaua5AUCDGtd",
        "outputId": "a8ee7e77-5034-4549-8385-37d020e0ad17",
        "colab": {
          "base_uri": "https://localhost:8080/",
          "height": 240
        }
      },
      "execution_count": null,
      "outputs": [
        {
          "output_type": "error",
          "ename": "TypeError",
          "evalue": "ignored",
          "traceback": [
            "\u001b[0;31m---------------------------------------------------------------------------\u001b[0m",
            "\u001b[0;31mTypeError\u001b[0m                                 Traceback (most recent call last)",
            "\u001b[0;32m<ipython-input-112-0ff3445cbcae>\u001b[0m in \u001b[0;36m<cell line: 1>\u001b[0;34m()\u001b[0m\n\u001b[0;32m----> 1\u001b[0;31m \u001b[0mplt\u001b[0m\u001b[0;34m.\u001b[0m\u001b[0mscatter\u001b[0m\u001b[0;34m(\u001b[0m\u001b[0mdataset\u001b[0m\u001b[0;34m[\u001b[0m\u001b[0;34m[\u001b[0m\u001b[0;34m'Age'\u001b[0m\u001b[0;34m]\u001b[0m\u001b[0;34m]\u001b[0m\u001b[0;34m,\u001b[0m \u001b[0mdataset\u001b[0m\u001b[0;34m[\u001b[0m\u001b[0;34m[\u001b[0m\u001b[0;34m'Salary'\u001b[0m\u001b[0;34m]\u001b[0m\u001b[0;34m]\u001b[0m\u001b[0;34m,\u001b[0m \u001b[0mc\u001b[0m\u001b[0;34m=\u001b[0m\u001b[0my\u001b[0m\u001b[0;34m,\u001b[0m \u001b[0ms\u001b[0m\u001b[0;34m=\u001b[0m\u001b[0;36m10\u001b[0m\u001b[0;34m,\u001b[0m \u001b[0mcmap\u001b[0m\u001b[0;34m=\u001b[0m\u001b[0;34m'PiYG'\u001b[0m \u001b[0;34m)\u001b[0m\u001b[0;34m\u001b[0m\u001b[0;34m\u001b[0m\u001b[0m\n\u001b[0m\u001b[1;32m      2\u001b[0m \u001b[0mlim\u001b[0m \u001b[0;34m=\u001b[0m \u001b[0mplt\u001b[0m\u001b[0;34m.\u001b[0m\u001b[0maxis\u001b[0m\u001b[0;34m(\u001b[0m\u001b[0;34m)\u001b[0m\u001b[0;34m\u001b[0m\u001b[0;34m\u001b[0m\u001b[0m\n\u001b[1;32m      3\u001b[0m \u001b[0mplt\u001b[0m\u001b[0;34m.\u001b[0m\u001b[0mscatter\u001b[0m\u001b[0;34m(\u001b[0m\u001b[0mdataset\u001b[0m\u001b[0;34m[\u001b[0m\u001b[0;34m[\u001b[0m\u001b[0;34m'Age'\u001b[0m\u001b[0;34m]\u001b[0m\u001b[0;34m]\u001b[0m\u001b[0;34m,\u001b[0m \u001b[0mdataset\u001b[0m\u001b[0;34m[\u001b[0m\u001b[0;34m[\u001b[0m\u001b[0;34m'Salary'\u001b[0m\u001b[0;34m]\u001b[0m\u001b[0;34m]\u001b[0m\u001b[0;34m,\u001b[0m \u001b[0mc\u001b[0m\u001b[0;34m=\u001b[0m\u001b[0my\u001b[0m\u001b[0;34m,\u001b[0m \u001b[0ms\u001b[0m\u001b[0;34m=\u001b[0m\u001b[0;36m20\u001b[0m\u001b[0;34m,\u001b[0m \u001b[0mcmap\u001b[0m\u001b[0;34m=\u001b[0m\u001b[0;34m'RdBu'\u001b[0m\u001b[0;34m,\u001b[0m \u001b[0malpha\u001b[0m\u001b[0;34m=\u001b[0m\u001b[0;36m0.1\u001b[0m\u001b[0;34m)\u001b[0m\u001b[0;34m\u001b[0m\u001b[0;34m\u001b[0m\u001b[0m\n\u001b[1;32m      4\u001b[0m \u001b[0mplt\u001b[0m\u001b[0;34m.\u001b[0m\u001b[0mshow\u001b[0m\u001b[0;34m(\u001b[0m\u001b[0;34m)\u001b[0m\u001b[0;34m;\u001b[0m\u001b[0;34m\u001b[0m\u001b[0;34m\u001b[0m\u001b[0m\n\u001b[1;32m      5\u001b[0m \u001b[0;34m\u001b[0m\u001b[0m\n",
            "\u001b[0;31mTypeError\u001b[0m: unhashable type: 'list'"
          ]
        }
      ]
    },
    {
      "cell_type": "markdown",
      "source": [
        "## Start Machine learning"
      ],
      "metadata": {
        "id": "nHm6s6vZYkaU"
      }
    },
    {
      "cell_type": "markdown",
      "metadata": {
        "id": "iagsTd4o357d"
      },
      "source": [
        "**divide the input and output values into the training and testing**"
      ]
    },
    {
      "cell_type": "code",
      "execution_count": null,
      "metadata": {
        "id": "NnAOIEII4BjI"
      },
      "outputs": [],
      "source": [
        "# training and testing data\n",
        "from sklearn.model_selection import train_test_split\n",
        "\n",
        "# assign test data size 25%\n",
        "X_train, X_test, y_train, y_test =train_test_split(X,y,test_size= 0.25)\n"
      ]
    },
    {
      "cell_type": "markdown",
      "metadata": {
        "id": "8wPR7LeO4V5I"
      },
      "source": [
        "**scale our dataset to be ready to be used for the training.**"
      ]
    },
    {
      "cell_type": "markdown",
      "metadata": {
        "id": "q_J_ZN244WVU"
      },
      "source": [
        "Note: scaling (or standardization) of a dataset is a common requirement for many machine learning estimators: they might behave badly if the individual features do not more or less look like standard normally distributed data.\n",
        "\n",
        "# Standardize Data\n",
        "Standardization plays a crucial role in feature scaling, an essential component of feature engineering. When gathering data for data analysis or machine learning, numerous independent features are typically collected. These independent features are utilized to predict the dependent feature in supervised learning. However, data often contains noise, making the model susceptible to the influence of outliers. To mitigate this issue, data is commonly normalized or standardized. Let's delve deeper into the concept of standardization.\n",
        "\n",
        "Standardization is a process that scales down the data, making it more manageable for the machine learning model to comprehend. This method aims to reduce both the mean and standard deviation of the data to '0' and '1', respectively.\n",
        "\n",
        "To standardize the data in pandas, Z-Score is a very popular method in pandas that is used to standardize the data. Z-Score will tell us how many standard deviations away a value is from the mean. when we standardize the data the data will be changed into a specific form where the graph of its frequency will form a bell curve. The formula to convert the data is,\n",
        "\n",
        "![image](https://d2mk45aasx86xg.cloudfront.net/image3_11zon_d90106db3d.webp)\n",
        "\n",
        "\n",
        "\n",
        "\n",
        "<br>\n",
        "\n",
        "df[‘column’] =( df[‘column’] – df[‘column’].mean() ) / df[‘column’].std()"
      ]
    },
    {
      "cell_type": "markdown",
      "source": [
        "### or we can call **StandardScaler** from Scikit Learn"
      ],
      "metadata": {
        "id": "-cQWNYTewISZ"
      }
    },
    {
      "cell_type": "code",
      "source": [
        "# To standarize data using scikit learn\n",
        "from sklearn.preprocessing import StandardScaler\n",
        "scaler = StandardScaler()\n",
        "X_train = scaler.fit_transform(X_train)   # standard units\n",
        "X_test=scaler.fit_transform(X_test)"
      ],
      "metadata": {
        "id": "-56Z_teKbGfO",
        "colab": {
          "base_uri": "https://localhost:8080/",
          "height": 222
        },
        "outputId": "5de09be7-90d9-4788-b661-21fbf0b84b74"
      },
      "execution_count": null,
      "outputs": [
        {
          "output_type": "error",
          "ename": "NameError",
          "evalue": "ignored",
          "traceback": [
            "\u001b[0;31m---------------------------------------------------------------------------\u001b[0m",
            "\u001b[0;31mNameError\u001b[0m                                 Traceback (most recent call last)",
            "\u001b[0;32m<ipython-input-31-9c58c74e4682>\u001b[0m in \u001b[0;36m<cell line: 4>\u001b[0;34m()\u001b[0m\n\u001b[1;32m      2\u001b[0m \u001b[0;32mfrom\u001b[0m \u001b[0msklearn\u001b[0m\u001b[0;34m.\u001b[0m\u001b[0mpreprocessing\u001b[0m \u001b[0;32mimport\u001b[0m \u001b[0mStandardScaler\u001b[0m\u001b[0;34m\u001b[0m\u001b[0;34m\u001b[0m\u001b[0m\n\u001b[1;32m      3\u001b[0m \u001b[0mscaler\u001b[0m \u001b[0;34m=\u001b[0m \u001b[0mStandardScaler\u001b[0m\u001b[0;34m(\u001b[0m\u001b[0;34m)\u001b[0m\u001b[0;34m\u001b[0m\u001b[0;34m\u001b[0m\u001b[0m\n\u001b[0;32m----> 4\u001b[0;31m \u001b[0mX_train\u001b[0m \u001b[0;34m=\u001b[0m \u001b[0mscaler\u001b[0m\u001b[0;34m.\u001b[0m\u001b[0mfit_transform\u001b[0m\u001b[0;34m(\u001b[0m\u001b[0mX_train\u001b[0m\u001b[0;34m)\u001b[0m   \u001b[0;31m# standard units\u001b[0m\u001b[0;34m\u001b[0m\u001b[0;34m\u001b[0m\u001b[0m\n\u001b[0m\u001b[1;32m      5\u001b[0m \u001b[0mX_test\u001b[0m\u001b[0;34m=\u001b[0m\u001b[0mscaler\u001b[0m\u001b[0;34m.\u001b[0m\u001b[0mfit_transform\u001b[0m\u001b[0;34m(\u001b[0m\u001b[0mX_test\u001b[0m\u001b[0;34m)\u001b[0m\u001b[0;34m\u001b[0m\u001b[0;34m\u001b[0m\u001b[0m\n",
            "\u001b[0;31mNameError\u001b[0m: name 'X_train' is not defined"
          ]
        }
      ]
    },
    {
      "cell_type": "code",
      "source": [
        "X_train"
      ],
      "metadata": {
        "id": "u72bM95w9RcS"
      },
      "execution_count": null,
      "outputs": []
    },
    {
      "cell_type": "markdown",
      "metadata": {
        "id": "zrRX5Ux24kjQ"
      },
      "source": [
        "# Training the model using <font color=red>Bernolli Naive Bayes</font> classifier\n",
        "\n",
        "We chose Bernoly because our **target** has binary values"
      ]
    },
    {
      "cell_type": "code",
      "execution_count": null,
      "metadata": {
        "id": "oAuyBAmt4fwS"
      },
      "outputs": [],
      "source": [
        "# importing classifier\n",
        "from sklearn.naive_bayes import BernoulliNB\n",
        "\n",
        "# initializaing the NB\n",
        "B_classifer = BernoulliNB()\n",
        "\n",
        "# training the model\n",
        "B_classifer.fit(X_train, y_train)\n",
        "\n",
        "# testing the model\n",
        "y_pred_B = B_classifer.predict(X_test)"
      ]
    },
    {
      "cell_type": "markdown",
      "metadata": {
        "id": "PjK8gTD94pxf"
      },
      "source": [
        "**accuracy of the predicted values using the Bernoulli Naive Bayes classifier.**"
      ]
    },
    {
      "cell_type": "code",
      "execution_count": null,
      "metadata": {
        "id": "u2vkayml5Efd"
      },
      "outputs": [],
      "source": [
        "# importing accuracy score\n",
        "from sklearn.metrics import accuracy_score\n",
        "\n",
        "# printing the accuracy of the model\n",
        "print(accuracy_score(y_pred_B, y_test))"
      ]
    },
    {
      "cell_type": "markdown",
      "metadata": {
        "id": "fkXI_PV05RI-"
      },
      "source": [
        "# Training model using <font color=red>Gaussian Naive Bayes</font> Classifier"
      ]
    },
    {
      "cell_type": "code",
      "execution_count": null,
      "metadata": {
        "id": "FC8WHbuS5TBS"
      },
      "outputs": [],
      "source": [
        "\n",
        "# import Gaussian Naive Bayes classifier\n",
        "from sklearn.naive_bayes import GaussianNB\n",
        "\n",
        "# create a Gaussian Classifier\n",
        "G_classifer = GaussianNB()\n",
        "\n",
        "# training the model\n",
        "G_classifer.fit(X_train, y_train )\n",
        "\n",
        "# testing the model\n",
        "y_pred_G = G_classifer.predict(X_test)"
      ]
    },
    {
      "cell_type": "markdown",
      "metadata": {
        "id": "P5wF9YUJ5X1z"
      },
      "source": [
        "**accuracy of our model**"
      ]
    },
    {
      "cell_type": "code",
      "execution_count": null,
      "metadata": {
        "id": "_qGdN8Re5cAM"
      },
      "outputs": [],
      "source": [
        "# importing accuracy score\n",
        "from sklearn.metrics import accuracy_score\n",
        "\n",
        "# printing the accuracy of the model\n",
        "print(accuracy_score(y_test,y_pred_G))"
      ]
    },
    {
      "cell_type": "markdown",
      "metadata": {
        "id": "uw2cQKct5mLv"
      },
      "source": [
        "# Evaluating Naive Bayes Classification performance"
      ]
    },
    {
      "cell_type": "markdown",
      "metadata": {
        "id": "OebG47f65st9"
      },
      "source": [
        "**Confusion Matrix for Binary classification**"
      ]
    },
    {
      "cell_type": "markdown",
      "metadata": {
        "id": "P6FlAQJH5uUl"
      },
      "source": [
        "Confusion Matrix is also known as error matrix. It is a table layout that allows visualization of the performance of a classification algorithm. Each row of the matrix represents the instances in an actual class, while each column represents the instances in a predicted class, or vice versa.\n",
        "\n",
        "\n",
        "\n",
        "![image.png](data:image/png;base64,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)"
      ]
    },
    {
      "cell_type": "markdown",
      "metadata": {
        "id": "Onm5YUEV54-K"
      },
      "source": [
        "**Evaluation of Bernoulli Naive Bayes classifier**"
      ]
    },
    {
      "cell_type": "code",
      "execution_count": null,
      "metadata": {
        "id": "5cWQXMAT57RS"
      },
      "outputs": [],
      "source": [
        "# importing the required modules\n",
        "import seaborn as sns\n",
        "from sklearn.metrics import confusion_matrix\n",
        "\n",
        "# passing actual and predicted values\n",
        "cmB = confusion_matrix(y_test, y_pred_B)\n",
        "\n",
        "# true write data values in each cell of the matrix\n",
        "sB=sns.heatmap(cmB, annot=True)\n",
        "# plt.savefig('confusion.png')\n",
        "plt.show()"
      ]
    },
    {
      "cell_type": "code",
      "source": [
        "# Or you can show the confusion matrix directly\n",
        "cmB"
      ],
      "metadata": {
        "id": "6sUNZGpquHgN"
      },
      "execution_count": null,
      "outputs": []
    },
    {
      "cell_type": "markdown",
      "metadata": {
        "id": "dotOgzsa6Vd2"
      },
      "source": [
        "**Evaluation of Gaussian Naive Bayes Classifier**"
      ]
    },
    {
      "cell_type": "code",
      "execution_count": null,
      "metadata": {
        "id": "K3h_LfVp6Xpq"
      },
      "outputs": [],
      "source": [
        "# importing the required modules\n",
        "import seaborn as sns\n",
        "from sklearn.metrics import confusion_matrix\n",
        "\n",
        "# passing actual and predicted values\n",
        "cmG = confusion_matrix(y_test, y_pred_G)\n",
        "\n",
        "# true write data values in each cell of the matrix\n",
        "sG=sns.heatmap(cmG,annot=True)\n",
        "\n",
        "# plt.savefig('confusion1.png')\n",
        "plt.show()\n",
        "\n"
      ]
    },
    {
      "cell_type": "code",
      "source": [
        "# you can show the confusion matrix directly\n",
        "cmG"
      ],
      "metadata": {
        "id": "-ERgxHNc_2gq"
      },
      "execution_count": null,
      "outputs": []
    },
    {
      "cell_type": "markdown",
      "metadata": {
        "id": "J-ILg01g7E4-"
      },
      "source": [
        "================================================"
      ]
    },
    {
      "cell_type": "markdown",
      "metadata": {
        "id": "Y-TzKELK7KB7"
      },
      "source": [
        "================================================"
      ]
    },
    {
      "cell_type": "markdown",
      "metadata": {
        "id": "MmNFP9wl7NDE"
      },
      "source": [
        "================================================"
      ]
    },
    {
      "cell_type": "markdown",
      "metadata": {
        "id": "pyHVMpV27Nud"
      },
      "source": [
        "In real life, the data does not always consist of numeric values. For example, playing or not playing are not numeric values. In such scenarios, we need to convert the non-numeric data to numeric values before feeding data to our model. For example, we have the following dataset about whether players will play sport or not, depending on the weather and temperature."
      ]
    },
    {
      "cell_type": "code",
      "execution_count": null,
      "metadata": {
        "id": "Kd_yALlN7WSb"
      },
      "outputs": [],
      "source": [
        "# assigning features and label variables\n",
        "weather = ['Sunny','Sunny','Overcast','Rainy','Rainy','Rainy','Overcast','Sunny','Sunny', 'Rainy','Sunny','Overcast','Overcast','Rainy']\n",
        "\n",
        "# output class\n",
        "play = ['No','No','Yes','Yes','Yes','No','Yes','No','Yes','Yes','Yes','Yes','Yes','No']"
      ]
    },
    {
      "cell_type": "markdown",
      "metadata": {
        "id": "6pOzS8vh7ez8"
      },
      "source": [
        "Note: the input and output both are not numeric values. Before feeding this data to our model, we have to encode the non-numeric values into numeric ones. for example, Overcast = 0, Rainy = 1, Sunny = 2. This is called label encoding."
      ]
    },
    {
      "cell_type": "markdown",
      "source": [
        "## Preprocessing\n",
        "\n",
        "**ScikitLearn package** provides preprocessing with several common utility functions and transformer classes to change raw feature vectors into a representation that is more suitable for the downstream estimators"
      ],
      "metadata": {
        "id": "FpssX9slSAMX"
      }
    },
    {
      "cell_type": "code",
      "execution_count": null,
      "metadata": {
        "id": "trLu7LOU7f7K"
      },
      "outputs": [],
      "source": [
        "# Import LabelEncoder\n",
        "from sklearn import preprocessing\n",
        "\n",
        "# creating LabelEncoder\n",
        "labelCode = preprocessing.LabelEncoder()\n",
        "\n",
        "# Converting string labels into numbers.\n",
        "wheather_encoded =labelCode.fit_transform(weather)"
      ]
    },
    {
      "cell_type": "markdown",
      "metadata": {
        "id": "0ue9W-pb7ooK"
      },
      "source": [
        "The LabelEncoder will convert the string values to numeric values. For example, if we print the encoded weather, it will no longer contain numeric values."
      ]
    },
    {
      "cell_type": "code",
      "execution_count": null,
      "metadata": {
        "id": "8M0uf1eR7t6w"
      },
      "outputs": [],
      "source": [
        "print(wheather_encoded)"
      ]
    },
    {
      "cell_type": "markdown",
      "metadata": {
        "id": "mOCJ8xsA8K8J"
      },
      "source": [
        "**Similarly, we can also encode the play class.**"
      ]
    },
    {
      "cell_type": "code",
      "execution_count": null,
      "metadata": {
        "id": "zpslE2Gf8Mat"
      },
      "outputs": [],
      "source": [
        "# import LabelEncoder\n",
        "from sklearn import preprocessing\n",
        "\n",
        "# creating LabelEncoder\n",
        "labelCode = preprocessing.LabelEncoder()\n",
        "\n",
        "# converting string labels into numbers.\n",
        "label=labelCode.fit_transform(play)\n",
        "print(label)"
      ]
    },
    {
      "cell_type": "markdown",
      "metadata": {
        "id": "eZ9snFs78VDd"
      },
      "source": [
        "Generating model\n",
        "\n",
        "We have already seen that our input values are in a single-dimensional array. By default, the model training takes values in multi-dimensional arrays. If we feed the data without further changes, we will get the following error."
      ]
    },
    {
      "cell_type": "code",
      "execution_count": null,
      "metadata": {
        "id": "KpCl9LqJ8WQ2"
      },
      "outputs": [],
      "source": [
        "# import Gaussian Naive Bayes model\n",
        "from sklearn.naive_bayes import GaussianNB\n",
        "\n",
        "# create a Gaussian Classifier\n",
        "model = GaussianNB()\n",
        "\n",
        "# train the model using the training sets\n",
        "model.fit(wheather_encoded.reshape(-1, 1), label)"
      ]
    },
    {
      "cell_type": "markdown",
      "metadata": {
        "id": "3CkjgA6B8k0M"
      },
      "source": [
        "So, we need to convert our data to the 2D array before feeding it to our model. Here we will use NumPy array and reshape() method to create a 2D array."
      ]
    },
    {
      "cell_type": "code",
      "execution_count": null,
      "metadata": {
        "id": "JFG55Iwa8lue"
      },
      "outputs": [],
      "source": [
        "# importing numpy module\n",
        "import numpy as np\n",
        "\n",
        "# converting 1D array to 2D\n",
        "weather_2d = np.reshape(wheather_encoded, (-1, 1))  #means that you want to reshape the array into a 2-dimensional array with an unknown number of rows and 1 column.\n",
        "                                                    # The use of `-1` as one of the dimensions indicates that NumPy should automatically\n",
        "                                                    # compute the size of that dimension based on the original size of the array and the other specified dimension.\n",
        "print(weather_2d)"
      ]
    },
    {
      "cell_type": "markdown",
      "source": [
        "Note: you can use Pandas method  .replace\n",
        "\n",
        "assuming `weather`is table: <br>\n",
        "\n",
        "<font color=red>`weather['weather'].replace(['Sunny','Overcast','Rainy'],[0,1,2], inplace=True)`</font>"
      ],
      "metadata": {
        "id": "VhgBXEvhhQMx"
      }
    },
    {
      "cell_type": "markdown",
      "metadata": {
        "id": "w67r0i7L8uvX"
      },
      "source": [
        "**We can train our model using this data.**"
      ]
    },
    {
      "cell_type": "code",
      "execution_count": null,
      "metadata": {
        "id": "5WYyTvVA8xJE"
      },
      "outputs": [],
      "source": [
        "# import Gaussian Naive Bayes model\n",
        "from sklearn.naive_bayes import GaussianNB\n",
        "\n",
        "# create a Gaussian Classifier\n",
        "model = GaussianNB()\n",
        "\n",
        "# train the model using the training sets\n",
        "model.fit(weather_2d, label)"
      ]
    },
    {
      "cell_type": "markdown",
      "metadata": {
        "id": "lNJOLKkS88dp"
      },
      "source": [
        "We had used the Gaussian Naive Bayes classifier to train our model. Let us predict the output by providing a testing input."
      ]
    },
    {
      "cell_type": "code",
      "execution_count": null,
      "metadata": {
        "id": "dLWtb9_289Zr"
      },
      "outputs": [],
      "source": [
        "# predicting the odel\n",
        "predicted= model.predict([[0]]) # 0:Overcast\n",
        "\n",
        "# printing predicted value\n",
        "print(predicted)"
      ]
    },
    {
      "cell_type": "markdown",
      "metadata": {
        "id": "5VX4MI3f9ETH"
      },
      "source": [
        "<font color=red>**The output value 1 indicates that players will Play when there’s an Overcast weather.**"
      ]
    },
    {
      "cell_type": "markdown",
      "metadata": {
        "id": "vDxIv8Oe9fcR"
      },
      "source": [
        "# Naive Bayes Classification with **Multiple Labels**\n",
        "\n",
        "**will learn about Naive Bayes classification for multiple labels.**\n",
        "\n",
        "For the training, we will use the built-in data set from the sklearn module named `load_wine`. This dataset results from a chemical analysis of wines grown in the same region in Italy but derived from three different cultivars.\n",
        "\n",
        "The dataset consists of <font color=red> **13** features</font> (**alcohol**, **malic_acid**, **ash**, **alcalinity_of_ash**, **magnesium**, **total_phenols**, **flavanoids**, **nonflavanoid_phenols**, **proanthocyanins**, **color_intensity**, **hue**, **od280/od315_of_diluted_wines**, **proline**) and type of wine cultivar. This data has three types of wine Class_0, Class_1, and Class_3. We can build a model to classify the type of wine using Naive Bayes Classification."
      ]
    },
    {
      "cell_type": "code",
      "execution_count": null,
      "metadata": {
        "id": "lyF_m-S19xK7"
      },
      "outputs": [],
      "source": [
        "# import scikit-learn dataset library\n",
        "from sklearn import datasets\n",
        "\n",
        "# load dataset\n",
        "dataset = datasets.load_wine()\n"
      ]
    },
    {
      "cell_type": "code",
      "source": [
        "dataset.feature_names"
      ],
      "metadata": {
        "id": "SNrlvUHhxdkm"
      },
      "execution_count": null,
      "outputs": []
    },
    {
      "cell_type": "code",
      "source": [
        "dataset.target"
      ],
      "metadata": {
        "id": "bfV9_HnLxL7g"
      },
      "execution_count": null,
      "outputs": []
    },
    {
      "cell_type": "code",
      "source": [
        "dataset"
      ],
      "metadata": {
        "id": "T9JzAfYsxTyG"
      },
      "execution_count": null,
      "outputs": []
    },
    {
      "cell_type": "code",
      "source": [
        "# Fro above you can see that this dataset is siperated into data and target\n",
        "# to access data:\n",
        "dataset.data"
      ],
      "metadata": {
        "id": "Z7wcWsHDmORf"
      },
      "execution_count": null,
      "outputs": []
    },
    {
      "cell_type": "code",
      "source": [
        "#To access target\n",
        "dataset.target"
      ],
      "metadata": {
        "id": "ip29J-j3xwRK"
      },
      "execution_count": null,
      "outputs": []
    },
    {
      "cell_type": "code",
      "source": [
        "# The size of the dataset :\n",
        "dataset.data.size"
      ],
      "metadata": {
        "id": "aPbS5DH8x1AH"
      },
      "execution_count": null,
      "outputs": []
    },
    {
      "cell_type": "code",
      "source": [
        "dataset.data.shape"
      ],
      "metadata": {
        "id": "YGEAwgpQ2XjD"
      },
      "execution_count": null,
      "outputs": []
    },
    {
      "cell_type": "code",
      "source": [
        "dataset.data"
      ],
      "metadata": {
        "id": "-OvxQpXw2chy"
      },
      "execution_count": null,
      "outputs": []
    },
    {
      "cell_type": "code",
      "source": [
        "# The size of the dataset :\n",
        "dataset.target.size"
      ],
      "metadata": {
        "id": "Kt_v7z_ix-I4"
      },
      "execution_count": null,
      "outputs": []
    },
    {
      "cell_type": "code",
      "source": [
        "# why the size of data > size of target\n",
        "2314/178  #<-- the no. of attributes/feature in the data"
      ],
      "metadata": {
        "id": "71bR0G0nyD7g"
      },
      "execution_count": null,
      "outputs": []
    },
    {
      "cell_type": "markdown",
      "metadata": {
        "id": "7Ij3gplF94_B"
      },
      "source": [
        "we can print the input/features and target/output variables names to ensure the desired dataset."
      ]
    },
    {
      "cell_type": "code",
      "execution_count": null,
      "metadata": {
        "id": "-J_KGyv395yq"
      },
      "outputs": [],
      "source": [
        "# print the names of the 13 features\n",
        "print (\"Inputs: \", dataset.feature_names) # Print the head of the columns\n",
        "\n",
        "# print the label type of wine\n",
        "print (\"Outputs: \", dataset.target_names)"
      ]
    },
    {
      "cell_type": "markdown",
      "metadata": {
        "id": "hN5RlDPt9_UH"
      },
      "source": [
        "We check the type of data (numeric/non-numeric) by printing three rows from the dataset."
      ]
    },
    {
      "cell_type": "code",
      "execution_count": null,
      "metadata": {
        "id": "hrFyDFsw-ABt"
      },
      "outputs": [],
      "source": [
        "# print the wine data features\n",
        "print(dataset.data[0:3]) #top 3 rows"
      ]
    },
    {
      "cell_type": "markdown",
      "metadata": {
        "id": "j6Lbbhez-Iu4"
      },
      "source": [
        "We can also check the output values to verify that it is a multi-class classification dataset."
      ]
    },
    {
      "cell_type": "code",
      "execution_count": null,
      "metadata": {
        "id": "VkUsKP58-Jf_"
      },
      "outputs": [],
      "source": [
        "# print the wine labels\n",
        "print(dataset.target)"
      ]
    },
    {
      "cell_type": "markdown",
      "metadata": {
        "id": "GW7lby61-Pi5"
      },
      "source": [
        "# Training the model using multiclass labels\n",
        "\n",
        "Before feeding the dataset to our model, let us split the dataset into training and testing parts to evaluate our model by providing the testing dataset."
      ]
    },
    {
      "cell_type": "code",
      "source": [
        "# input and outputs\n",
        "independents = dataset.data\n",
        "dependent = dataset.target"
      ],
      "metadata": {
        "id": "4aI_mGb3u5WY"
      },
      "execution_count": null,
      "outputs": []
    },
    {
      "cell_type": "code",
      "source": [
        "# To standarize data using scikit learn\n",
        "from sklearn.preprocessing import StandardScaler\n",
        "Wine_scaler = StandardScaler()\n",
        "S_independents=Wine_scaler.fit_transform(independents)\n",
        "S_independents = scaler.fit_transform(S_independents)   # standard units\n"
      ],
      "metadata": {
        "id": "4uhAMhGp4JHR"
      },
      "execution_count": null,
      "outputs": []
    },
    {
      "cell_type": "code",
      "source": [
        "S_independents"
      ],
      "metadata": {
        "id": "l4q3uKg_5AIu"
      },
      "execution_count": null,
      "outputs": []
    },
    {
      "cell_type": "code",
      "execution_count": null,
      "metadata": {
        "id": "Novpqhg5-ROx"
      },
      "outputs": [],
      "source": [
        "# import train_test_split function\n",
        "from sklearn.model_selection import train_test_split\n",
        "# split dataset into training set and test set\n",
        "Wine_X_train, Wine_X_test, Wine_y_train, Wine_y_test = train_test_split(S_independents, dependent, test_size=0.3, random_state=1)\n"
      ]
    },
    {
      "cell_type": "markdown",
      "metadata": {
        "id": "19--jXP_-XfQ"
      },
      "source": [
        "Once the splitting is complete, we can feed our model with the training data."
      ]
    },
    {
      "cell_type": "code",
      "execution_count": null,
      "metadata": {
        "id": "1fyj5zPW-Zko"
      },
      "outputs": [],
      "source": [
        "#Training the model\n",
        "# import Gaussian Naive Bayes model\n",
        "from sklearn.naive_bayes import GaussianNB\n",
        "\n",
        "# create a Gaussian Classifier\n",
        "Wine_G_classifer = GaussianNB()\n",
        "\n",
        "# train the model using the training sets\n",
        "Wine_G_classifer.fit(Wine_X_train, Wine_y_train)\n",
        "\n",
        "# predict the response for test dataset\n",
        "Wine_y_pred = Wine_G_classifer.predict(Wine_X_test)"
      ]
    },
    {
      "cell_type": "markdown",
      "metadata": {
        "id": "GRjnY8Bx-idr"
      },
      "source": [
        "Note: we have used the Gaussian Naive Bayes classification method for the training.\n",
        "\n",
        "Let us now check the accuracy of our model:"
      ]
    },
    {
      "cell_type": "code",
      "execution_count": null,
      "metadata": {
        "id": "cvt-Wu_8-mMv"
      },
      "outputs": [],
      "source": [
        "# import scikit-learn metrics module for accuracy calculation\n",
        "from sklearn import metrics\n",
        "\n",
        "# printing accuracy\n",
        "print(\"Accuracy:\", metrics.accuracy_score(Wine_y_test, Wine_y_pred))"
      ]
    },
    {
      "cell_type": "markdown",
      "metadata": {
        "id": "NpyleIQR-rfp"
      },
      "source": [
        "# Evaluation of Naive Bayes Classifier for Multiclassification"
      ]
    },
    {
      "cell_type": "code",
      "execution_count": null,
      "metadata": {
        "id": "8XaP2wVH-tTi"
      },
      "outputs": [],
      "source": [
        "# importing the required modules\n",
        "import seaborn as sns\n",
        "from sklearn.metrics import confusion_matrix\n",
        "\n",
        "# passing actual and predicted values\n",
        "cm_Wine = confusion_matrix(y_test, y_pred)\n",
        "\n",
        "# true write data values in each cell of the matrix\n",
        "s1=sns.heatmap(cm,annot=True)\n",
        "\n",
        "plt.savefig('confusion2.png')\n",
        "plt.show()"
      ]
    },
    {
      "cell_type": "markdown",
      "source": [
        "Now, it's your turn!\n",
        "# <font color=red>**Task 1**</font>\n",
        "* Load the file `supermall.csv`\n",
        "* explore the dataset\n",
        "* apply Naive Bayes models.\n",
        "* test the accuracy for each model.\n",
        "* compaire the accuracy and write your conclusion, what do you think about your data."
      ],
      "metadata": {
        "id": "blavkTtvBbfO"
      }
    },
    {
      "cell_type": "markdown",
      "source": [
        "References:\n",
        "* [Naive Bayes Classifier Explained: Applications and Practice Problems of Naive Bayes Classifier](https://www.analyticsvidhya.com/blog/2017/09/naive-bayes-explained/#What_Is_the_Naive_Bayes_Algorithm?)\n",
        "* https://www.youtube.com/watch?v=HZGCoVF3YvM\n"
      ],
      "metadata": {
        "id": "5vOLF_PTutbP"
      }
    },
    {
      "cell_type": "code",
      "source": [
        "# use breast cancer\n",
        "# preprocessing, features to use, categorical/numerical conversion\n",
        "# run all 3 on them gaussian, multifeature, bernoulli\n",
        "# we say the best one based on accuracy"
      ],
      "metadata": {
        "id": "sLp9-2T84KXf"
      },
      "execution_count": null,
      "outputs": []
    },
    {
      "cell_type": "code",
      "source": [
        "# importing the dataset\n",
        "path='/content/drive/MyDrive/data science/'\n",
        "dataset = pd.read_csv(path+ 'breastcancer.csv')"
      ],
      "metadata": {
        "id": "b16kuFcPoGpn"
      },
      "execution_count": null,
      "outputs": []
    },
    {
      "cell_type": "code",
      "source": [
        "dataset.columns"
      ],
      "metadata": {
        "colab": {
          "base_uri": "https://localhost:8080/"
        },
        "id": "owRKBnS7oIAt",
        "outputId": "f99fba37-94e0-470f-de96-4fd77b935dea"
      },
      "execution_count": null,
      "outputs": [
        {
          "output_type": "execute_result",
          "data": {
            "text/plain": [
              "Index(['id', 'diagnosis', 'radius_mean', 'texture_mean', 'perimeter_mean',\n",
              "       'area_mean', 'smoothness_mean', 'compactness_mean', 'concavity_mean',\n",
              "       'concave points_mean', 'symmetry_mean', 'fractal_dimension_mean',\n",
              "       'radius_se', 'texture_se', 'perimeter_se', 'area_se', 'smoothness_se',\n",
              "       'compactness_se', 'concavity_se', 'concave points_se', 'symmetry_se',\n",
              "       'fractal_dimension_se', 'radius_worst', 'texture_worst',\n",
              "       'perimeter_worst', 'area_worst', 'smoothness_worst',\n",
              "       'compactness_worst', 'concavity_worst', 'concave points_worst',\n",
              "       'symmetry_worst', 'fractal_dimension_worst', 'Unnamed: 32'],\n",
              "      dtype='object')"
            ]
          },
          "metadata": {},
          "execution_count": 47
        }
      ]
    },
    {
      "cell_type": "code",
      "source": [
        "# split the data into inputs and outputs\n",
        "# X is dependent\n",
        "# y is indpendent\n",
        "y = dataset[['diagnosis']]\n",
        "X = dataset[['radius_mean', 'texture_mean', 'perimeter_mean',\n",
        "       'area_mean', 'smoothness_mean', 'compactness_mean', 'concavity_mean',\n",
        "       'concave points_mean', 'symmetry_mean', 'fractal_dimension_mean',\n",
        "       'radius_se', 'texture_se', 'perimeter_se', 'area_se', 'smoothness_se',\n",
        "       'compactness_se', 'concavity_se', 'concave points_se', 'symmetry_se',\n",
        "       'fractal_dimension_se', 'radius_worst', 'texture_worst',\n",
        "       'perimeter_worst', 'area_worst', 'smoothness_worst',\n",
        "       'compactness_worst', 'concavity_worst', 'concave points_worst',\n",
        "       'symmetry_worst', 'fractal_dimension_worst']]\n",
        "\n",
        "dataset"
      ],
      "metadata": {
        "colab": {
          "base_uri": "https://localhost:8080/",
          "height": 505
        },
        "id": "nf70fIrcmobe",
        "outputId": "e02e928d-9d7b-4cf3-d063-60c5495aa4b2"
      },
      "execution_count": null,
      "outputs": [
        {
          "output_type": "execute_result",
          "data": {
            "text/plain": [
              "           id diagnosis  radius_mean  texture_mean  perimeter_mean  area_mean  \\\n",
              "0      842302         M        17.99         10.38          122.80     1001.0   \n",
              "1      842517         M        20.57         17.77          132.90     1326.0   \n",
              "2    84300903         M        19.69         21.25          130.00     1203.0   \n",
              "3    84348301         M        11.42         20.38           77.58      386.1   \n",
              "4    84358402         M        20.29         14.34          135.10     1297.0   \n",
              "..        ...       ...          ...           ...             ...        ...   \n",
              "564    926424         M        21.56         22.39          142.00     1479.0   \n",
              "565    926682         M        20.13         28.25          131.20     1261.0   \n",
              "566    926954         M        16.60         28.08          108.30      858.1   \n",
              "567    927241         M        20.60         29.33          140.10     1265.0   \n",
              "568     92751         B         7.76         24.54           47.92      181.0   \n",
              "\n",
              "     smoothness_mean  compactness_mean  concavity_mean  concave points_mean  \\\n",
              "0            0.11840           0.27760         0.30010              0.14710   \n",
              "1            0.08474           0.07864         0.08690              0.07017   \n",
              "2            0.10960           0.15990         0.19740              0.12790   \n",
              "3            0.14250           0.28390         0.24140              0.10520   \n",
              "4            0.10030           0.13280         0.19800              0.10430   \n",
              "..               ...               ...             ...                  ...   \n",
              "564          0.11100           0.11590         0.24390              0.13890   \n",
              "565          0.09780           0.10340         0.14400              0.09791   \n",
              "566          0.08455           0.10230         0.09251              0.05302   \n",
              "567          0.11780           0.27700         0.35140              0.15200   \n",
              "568          0.05263           0.04362         0.00000              0.00000   \n",
              "\n",
              "     ...  texture_worst  perimeter_worst  area_worst  smoothness_worst  \\\n",
              "0    ...          17.33           184.60      2019.0           0.16220   \n",
              "1    ...          23.41           158.80      1956.0           0.12380   \n",
              "2    ...          25.53           152.50      1709.0           0.14440   \n",
              "3    ...          26.50            98.87       567.7           0.20980   \n",
              "4    ...          16.67           152.20      1575.0           0.13740   \n",
              "..   ...            ...              ...         ...               ...   \n",
              "564  ...          26.40           166.10      2027.0           0.14100   \n",
              "565  ...          38.25           155.00      1731.0           0.11660   \n",
              "566  ...          34.12           126.70      1124.0           0.11390   \n",
              "567  ...          39.42           184.60      1821.0           0.16500   \n",
              "568  ...          30.37            59.16       268.6           0.08996   \n",
              "\n",
              "     compactness_worst  concavity_worst  concave points_worst  symmetry_worst  \\\n",
              "0              0.66560           0.7119                0.2654          0.4601   \n",
              "1              0.18660           0.2416                0.1860          0.2750   \n",
              "2              0.42450           0.4504                0.2430          0.3613   \n",
              "3              0.86630           0.6869                0.2575          0.6638   \n",
              "4              0.20500           0.4000                0.1625          0.2364   \n",
              "..                 ...              ...                   ...             ...   \n",
              "564            0.21130           0.4107                0.2216          0.2060   \n",
              "565            0.19220           0.3215                0.1628          0.2572   \n",
              "566            0.30940           0.3403                0.1418          0.2218   \n",
              "567            0.86810           0.9387                0.2650          0.4087   \n",
              "568            0.06444           0.0000                0.0000          0.2871   \n",
              "\n",
              "     fractal_dimension_worst  Unnamed: 32  \n",
              "0                    0.11890          NaN  \n",
              "1                    0.08902          NaN  \n",
              "2                    0.08758          NaN  \n",
              "3                    0.17300          NaN  \n",
              "4                    0.07678          NaN  \n",
              "..                       ...          ...  \n",
              "564                  0.07115          NaN  \n",
              "565                  0.06637          NaN  \n",
              "566                  0.07820          NaN  \n",
              "567                  0.12400          NaN  \n",
              "568                  0.07039          NaN  \n",
              "\n",
              "[569 rows x 33 columns]"
            ],
            "text/html": [
              "\n",
              "\n",
              "  <div id=\"df-7188f60b-b728-4ce5-bde2-488c235af78c\">\n",
              "    <div class=\"colab-df-container\">\n",
              "      <div>\n",
              "<style scoped>\n",
              "    .dataframe tbody tr th:only-of-type {\n",
              "        vertical-align: middle;\n",
              "    }\n",
              "\n",
              "    .dataframe tbody tr th {\n",
              "        vertical-align: top;\n",
              "    }\n",
              "\n",
              "    .dataframe thead th {\n",
              "        text-align: right;\n",
              "    }\n",
              "</style>\n",
              "<table border=\"1\" class=\"dataframe\">\n",
              "  <thead>\n",
              "    <tr style=\"text-align: right;\">\n",
              "      <th></th>\n",
              "      <th>id</th>\n",
              "      <th>diagnosis</th>\n",
              "      <th>radius_mean</th>\n",
              "      <th>texture_mean</th>\n",
              "      <th>perimeter_mean</th>\n",
              "      <th>area_mean</th>\n",
              "      <th>smoothness_mean</th>\n",
              "      <th>compactness_mean</th>\n",
              "      <th>concavity_mean</th>\n",
              "      <th>concave points_mean</th>\n",
              "      <th>...</th>\n",
              "      <th>texture_worst</th>\n",
              "      <th>perimeter_worst</th>\n",
              "      <th>area_worst</th>\n",
              "      <th>smoothness_worst</th>\n",
              "      <th>compactness_worst</th>\n",
              "      <th>concavity_worst</th>\n",
              "      <th>concave points_worst</th>\n",
              "      <th>symmetry_worst</th>\n",
              "      <th>fractal_dimension_worst</th>\n",
              "      <th>Unnamed: 32</th>\n",
              "    </tr>\n",
              "  </thead>\n",
              "  <tbody>\n",
              "    <tr>\n",
              "      <th>0</th>\n",
              "      <td>842302</td>\n",
              "      <td>M</td>\n",
              "      <td>17.99</td>\n",
              "      <td>10.38</td>\n",
              "      <td>122.80</td>\n",
              "      <td>1001.0</td>\n",
              "      <td>0.11840</td>\n",
              "      <td>0.27760</td>\n",
              "      <td>0.30010</td>\n",
              "      <td>0.14710</td>\n",
              "      <td>...</td>\n",
              "      <td>17.33</td>\n",
              "      <td>184.60</td>\n",
              "      <td>2019.0</td>\n",
              "      <td>0.16220</td>\n",
              "      <td>0.66560</td>\n",
              "      <td>0.7119</td>\n",
              "      <td>0.2654</td>\n",
              "      <td>0.4601</td>\n",
              "      <td>0.11890</td>\n",
              "      <td>NaN</td>\n",
              "    </tr>\n",
              "    <tr>\n",
              "      <th>1</th>\n",
              "      <td>842517</td>\n",
              "      <td>M</td>\n",
              "      <td>20.57</td>\n",
              "      <td>17.77</td>\n",
              "      <td>132.90</td>\n",
              "      <td>1326.0</td>\n",
              "      <td>0.08474</td>\n",
              "      <td>0.07864</td>\n",
              "      <td>0.08690</td>\n",
              "      <td>0.07017</td>\n",
              "      <td>...</td>\n",
              "      <td>23.41</td>\n",
              "      <td>158.80</td>\n",
              "      <td>1956.0</td>\n",
              "      <td>0.12380</td>\n",
              "      <td>0.18660</td>\n",
              "      <td>0.2416</td>\n",
              "      <td>0.1860</td>\n",
              "      <td>0.2750</td>\n",
              "      <td>0.08902</td>\n",
              "      <td>NaN</td>\n",
              "    </tr>\n",
              "    <tr>\n",
              "      <th>2</th>\n",
              "      <td>84300903</td>\n",
              "      <td>M</td>\n",
              "      <td>19.69</td>\n",
              "      <td>21.25</td>\n",
              "      <td>130.00</td>\n",
              "      <td>1203.0</td>\n",
              "      <td>0.10960</td>\n",
              "      <td>0.15990</td>\n",
              "      <td>0.19740</td>\n",
              "      <td>0.12790</td>\n",
              "      <td>...</td>\n",
              "      <td>25.53</td>\n",
              "      <td>152.50</td>\n",
              "      <td>1709.0</td>\n",
              "      <td>0.14440</td>\n",
              "      <td>0.42450</td>\n",
              "      <td>0.4504</td>\n",
              "      <td>0.2430</td>\n",
              "      <td>0.3613</td>\n",
              "      <td>0.08758</td>\n",
              "      <td>NaN</td>\n",
              "    </tr>\n",
              "    <tr>\n",
              "      <th>3</th>\n",
              "      <td>84348301</td>\n",
              "      <td>M</td>\n",
              "      <td>11.42</td>\n",
              "      <td>20.38</td>\n",
              "      <td>77.58</td>\n",
              "      <td>386.1</td>\n",
              "      <td>0.14250</td>\n",
              "      <td>0.28390</td>\n",
              "      <td>0.24140</td>\n",
              "      <td>0.10520</td>\n",
              "      <td>...</td>\n",
              "      <td>26.50</td>\n",
              "      <td>98.87</td>\n",
              "      <td>567.7</td>\n",
              "      <td>0.20980</td>\n",
              "      <td>0.86630</td>\n",
              "      <td>0.6869</td>\n",
              "      <td>0.2575</td>\n",
              "      <td>0.6638</td>\n",
              "      <td>0.17300</td>\n",
              "      <td>NaN</td>\n",
              "    </tr>\n",
              "    <tr>\n",
              "      <th>4</th>\n",
              "      <td>84358402</td>\n",
              "      <td>M</td>\n",
              "      <td>20.29</td>\n",
              "      <td>14.34</td>\n",
              "      <td>135.10</td>\n",
              "      <td>1297.0</td>\n",
              "      <td>0.10030</td>\n",
              "      <td>0.13280</td>\n",
              "      <td>0.19800</td>\n",
              "      <td>0.10430</td>\n",
              "      <td>...</td>\n",
              "      <td>16.67</td>\n",
              "      <td>152.20</td>\n",
              "      <td>1575.0</td>\n",
              "      <td>0.13740</td>\n",
              "      <td>0.20500</td>\n",
              "      <td>0.4000</td>\n",
              "      <td>0.1625</td>\n",
              "      <td>0.2364</td>\n",
              "      <td>0.07678</td>\n",
              "      <td>NaN</td>\n",
              "    </tr>\n",
              "    <tr>\n",
              "      <th>...</th>\n",
              "      <td>...</td>\n",
              "      <td>...</td>\n",
              "      <td>...</td>\n",
              "      <td>...</td>\n",
              "      <td>...</td>\n",
              "      <td>...</td>\n",
              "      <td>...</td>\n",
              "      <td>...</td>\n",
              "      <td>...</td>\n",
              "      <td>...</td>\n",
              "      <td>...</td>\n",
              "      <td>...</td>\n",
              "      <td>...</td>\n",
              "      <td>...</td>\n",
              "      <td>...</td>\n",
              "      <td>...</td>\n",
              "      <td>...</td>\n",
              "      <td>...</td>\n",
              "      <td>...</td>\n",
              "      <td>...</td>\n",
              "      <td>...</td>\n",
              "    </tr>\n",
              "    <tr>\n",
              "      <th>564</th>\n",
              "      <td>926424</td>\n",
              "      <td>M</td>\n",
              "      <td>21.56</td>\n",
              "      <td>22.39</td>\n",
              "      <td>142.00</td>\n",
              "      <td>1479.0</td>\n",
              "      <td>0.11100</td>\n",
              "      <td>0.11590</td>\n",
              "      <td>0.24390</td>\n",
              "      <td>0.13890</td>\n",
              "      <td>...</td>\n",
              "      <td>26.40</td>\n",
              "      <td>166.10</td>\n",
              "      <td>2027.0</td>\n",
              "      <td>0.14100</td>\n",
              "      <td>0.21130</td>\n",
              "      <td>0.4107</td>\n",
              "      <td>0.2216</td>\n",
              "      <td>0.2060</td>\n",
              "      <td>0.07115</td>\n",
              "      <td>NaN</td>\n",
              "    </tr>\n",
              "    <tr>\n",
              "      <th>565</th>\n",
              "      <td>926682</td>\n",
              "      <td>M</td>\n",
              "      <td>20.13</td>\n",
              "      <td>28.25</td>\n",
              "      <td>131.20</td>\n",
              "      <td>1261.0</td>\n",
              "      <td>0.09780</td>\n",
              "      <td>0.10340</td>\n",
              "      <td>0.14400</td>\n",
              "      <td>0.09791</td>\n",
              "      <td>...</td>\n",
              "      <td>38.25</td>\n",
              "      <td>155.00</td>\n",
              "      <td>1731.0</td>\n",
              "      <td>0.11660</td>\n",
              "      <td>0.19220</td>\n",
              "      <td>0.3215</td>\n",
              "      <td>0.1628</td>\n",
              "      <td>0.2572</td>\n",
              "      <td>0.06637</td>\n",
              "      <td>NaN</td>\n",
              "    </tr>\n",
              "    <tr>\n",
              "      <th>566</th>\n",
              "      <td>926954</td>\n",
              "      <td>M</td>\n",
              "      <td>16.60</td>\n",
              "      <td>28.08</td>\n",
              "      <td>108.30</td>\n",
              "      <td>858.1</td>\n",
              "      <td>0.08455</td>\n",
              "      <td>0.10230</td>\n",
              "      <td>0.09251</td>\n",
              "      <td>0.05302</td>\n",
              "      <td>...</td>\n",
              "      <td>34.12</td>\n",
              "      <td>126.70</td>\n",
              "      <td>1124.0</td>\n",
              "      <td>0.11390</td>\n",
              "      <td>0.30940</td>\n",
              "      <td>0.3403</td>\n",
              "      <td>0.1418</td>\n",
              "      <td>0.2218</td>\n",
              "      <td>0.07820</td>\n",
              "      <td>NaN</td>\n",
              "    </tr>\n",
              "    <tr>\n",
              "      <th>567</th>\n",
              "      <td>927241</td>\n",
              "      <td>M</td>\n",
              "      <td>20.60</td>\n",
              "      <td>29.33</td>\n",
              "      <td>140.10</td>\n",
              "      <td>1265.0</td>\n",
              "      <td>0.11780</td>\n",
              "      <td>0.27700</td>\n",
              "      <td>0.35140</td>\n",
              "      <td>0.15200</td>\n",
              "      <td>...</td>\n",
              "      <td>39.42</td>\n",
              "      <td>184.60</td>\n",
              "      <td>1821.0</td>\n",
              "      <td>0.16500</td>\n",
              "      <td>0.86810</td>\n",
              "      <td>0.9387</td>\n",
              "      <td>0.2650</td>\n",
              "      <td>0.4087</td>\n",
              "      <td>0.12400</td>\n",
              "      <td>NaN</td>\n",
              "    </tr>\n",
              "    <tr>\n",
              "      <th>568</th>\n",
              "      <td>92751</td>\n",
              "      <td>B</td>\n",
              "      <td>7.76</td>\n",
              "      <td>24.54</td>\n",
              "      <td>47.92</td>\n",
              "      <td>181.0</td>\n",
              "      <td>0.05263</td>\n",
              "      <td>0.04362</td>\n",
              "      <td>0.00000</td>\n",
              "      <td>0.00000</td>\n",
              "      <td>...</td>\n",
              "      <td>30.37</td>\n",
              "      <td>59.16</td>\n",
              "      <td>268.6</td>\n",
              "      <td>0.08996</td>\n",
              "      <td>0.06444</td>\n",
              "      <td>0.0000</td>\n",
              "      <td>0.0000</td>\n",
              "      <td>0.2871</td>\n",
              "      <td>0.07039</td>\n",
              "      <td>NaN</td>\n",
              "    </tr>\n",
              "  </tbody>\n",
              "</table>\n",
              "<p>569 rows × 33 columns</p>\n",
              "</div>\n",
              "      <button class=\"colab-df-convert\" onclick=\"convertToInteractive('df-7188f60b-b728-4ce5-bde2-488c235af78c')\"\n",
              "              title=\"Convert this dataframe to an interactive table.\"\n",
              "              style=\"display:none;\">\n",
              "\n",
              "  <svg xmlns=\"http://www.w3.org/2000/svg\" height=\"24px\"viewBox=\"0 0 24 24\"\n",
              "       width=\"24px\">\n",
              "    <path d=\"M0 0h24v24H0V0z\" fill=\"none\"/>\n",
              "    <path d=\"M18.56 5.44l.94 2.06.94-2.06 2.06-.94-2.06-.94-.94-2.06-.94 2.06-2.06.94zm-11 1L8.5 8.5l.94-2.06 2.06-.94-2.06-.94L8.5 2.5l-.94 2.06-2.06.94zm10 10l.94 2.06.94-2.06 2.06-.94-2.06-.94-.94-2.06-.94 2.06-2.06.94z\"/><path d=\"M17.41 7.96l-1.37-1.37c-.4-.4-.92-.59-1.43-.59-.52 0-1.04.2-1.43.59L10.3 9.45l-7.72 7.72c-.78.78-.78 2.05 0 2.83L4 21.41c.39.39.9.59 1.41.59.51 0 1.02-.2 1.41-.59l7.78-7.78 2.81-2.81c.8-.78.8-2.07 0-2.86zM5.41 20L4 18.59l7.72-7.72 1.47 1.35L5.41 20z\"/>\n",
              "  </svg>\n",
              "      </button>\n",
              "\n",
              "\n",
              "\n",
              "    <div id=\"df-f6e90c80-7d43-49a1-8ed3-01b7333ea3cc\">\n",
              "      <button class=\"colab-df-quickchart\" onclick=\"quickchart('df-f6e90c80-7d43-49a1-8ed3-01b7333ea3cc')\"\n",
              "              title=\"Suggest charts.\"\n",
              "              style=\"display:none;\">\n",
              "\n",
              "<svg xmlns=\"http://www.w3.org/2000/svg\" height=\"24px\"viewBox=\"0 0 24 24\"\n",
              "     width=\"24px\">\n",
              "    <g>\n",
              "        <path d=\"M19 3H5c-1.1 0-2 .9-2 2v14c0 1.1.9 2 2 2h14c1.1 0 2-.9 2-2V5c0-1.1-.9-2-2-2zM9 17H7v-7h2v7zm4 0h-2V7h2v10zm4 0h-2v-4h2v4z\"/>\n",
              "    </g>\n",
              "</svg>\n",
              "      </button>\n",
              "    </div>\n",
              "\n",
              "<style>\n",
              "  .colab-df-quickchart {\n",
              "    background-color: #E8F0FE;\n",
              "    border: none;\n",
              "    border-radius: 50%;\n",
              "    cursor: pointer;\n",
              "    display: none;\n",
              "    fill: #1967D2;\n",
              "    height: 32px;\n",
              "    padding: 0 0 0 0;\n",
              "    width: 32px;\n",
              "  }\n",
              "\n",
              "  .colab-df-quickchart:hover {\n",
              "    background-color: #E2EBFA;\n",
              "    box-shadow: 0px 1px 2px rgba(60, 64, 67, 0.3), 0px 1px 3px 1px rgba(60, 64, 67, 0.15);\n",
              "    fill: #174EA6;\n",
              "  }\n",
              "\n",
              "  [theme=dark] .colab-df-quickchart {\n",
              "    background-color: #3B4455;\n",
              "    fill: #D2E3FC;\n",
              "  }\n",
              "\n",
              "  [theme=dark] .colab-df-quickchart:hover {\n",
              "    background-color: #434B5C;\n",
              "    box-shadow: 0px 1px 3px 1px rgba(0, 0, 0, 0.15);\n",
              "    filter: drop-shadow(0px 1px 2px rgba(0, 0, 0, 0.3));\n",
              "    fill: #FFFFFF;\n",
              "  }\n",
              "</style>\n",
              "\n",
              "    <script>\n",
              "      async function quickchart(key) {\n",
              "        const containerElement = document.querySelector('#' + key);\n",
              "        const charts = await google.colab.kernel.invokeFunction(\n",
              "            'suggestCharts', [key], {});\n",
              "      }\n",
              "    </script>\n",
              "\n",
              "      <script>\n",
              "\n",
              "function displayQuickchartButton(domScope) {\n",
              "  let quickchartButtonEl =\n",
              "    domScope.querySelector('#df-f6e90c80-7d43-49a1-8ed3-01b7333ea3cc button.colab-df-quickchart');\n",
              "  quickchartButtonEl.style.display =\n",
              "    google.colab.kernel.accessAllowed ? 'block' : 'none';\n",
              "}\n",
              "\n",
              "        displayQuickchartButton(document);\n",
              "      </script>\n",
              "      <style>\n",
              "    .colab-df-container {\n",
              "      display:flex;\n",
              "      flex-wrap:wrap;\n",
              "      gap: 12px;\n",
              "    }\n",
              "\n",
              "    .colab-df-convert {\n",
              "      background-color: #E8F0FE;\n",
              "      border: none;\n",
              "      border-radius: 50%;\n",
              "      cursor: pointer;\n",
              "      display: none;\n",
              "      fill: #1967D2;\n",
              "      height: 32px;\n",
              "      padding: 0 0 0 0;\n",
              "      width: 32px;\n",
              "    }\n",
              "\n",
              "    .colab-df-convert:hover {\n",
              "      background-color: #E2EBFA;\n",
              "      box-shadow: 0px 1px 2px rgba(60, 64, 67, 0.3), 0px 1px 3px 1px rgba(60, 64, 67, 0.15);\n",
              "      fill: #174EA6;\n",
              "    }\n",
              "\n",
              "    [theme=dark] .colab-df-convert {\n",
              "      background-color: #3B4455;\n",
              "      fill: #D2E3FC;\n",
              "    }\n",
              "\n",
              "    [theme=dark] .colab-df-convert:hover {\n",
              "      background-color: #434B5C;\n",
              "      box-shadow: 0px 1px 3px 1px rgba(0, 0, 0, 0.15);\n",
              "      filter: drop-shadow(0px 1px 2px rgba(0, 0, 0, 0.3));\n",
              "      fill: #FFFFFF;\n",
              "    }\n",
              "  </style>\n",
              "\n",
              "      <script>\n",
              "        const buttonEl =\n",
              "          document.querySelector('#df-7188f60b-b728-4ce5-bde2-488c235af78c button.colab-df-convert');\n",
              "        buttonEl.style.display =\n",
              "          google.colab.kernel.accessAllowed ? 'block' : 'none';\n",
              "\n",
              "        async function convertToInteractive(key) {\n",
              "          const element = document.querySelector('#df-7188f60b-b728-4ce5-bde2-488c235af78c');\n",
              "          const dataTable =\n",
              "            await google.colab.kernel.invokeFunction('convertToInteractive',\n",
              "                                                     [key], {});\n",
              "          if (!dataTable) return;\n",
              "\n",
              "          const docLinkHtml = 'Like what you see? Visit the ' +\n",
              "            '<a target=\"_blank\" href=https://colab.research.google.com/notebooks/data_table.ipynb>data table notebook</a>'\n",
              "            + ' to learn more about interactive tables.';\n",
              "          element.innerHTML = '';\n",
              "          dataTable['output_type'] = 'display_data';\n",
              "          await google.colab.output.renderOutput(dataTable, element);\n",
              "          const docLink = document.createElement('div');\n",
              "          docLink.innerHTML = docLinkHtml;\n",
              "          element.appendChild(docLink);\n",
              "        }\n",
              "      </script>\n",
              "    </div>\n",
              "  </div>\n"
            ]
          },
          "metadata": {},
          "execution_count": 48
        }
      ]
    },
    {
      "cell_type": "code",
      "source": [
        "# training and testing data\n",
        "from sklearn.model_selection import train_test_split\n",
        "\n",
        "# assign test data size 25%\n",
        "X_train, X_test, y_train, y_test =train_test_split(X,y,test_size= 0.25)"
      ],
      "metadata": {
        "id": "NCvx05D-o30T"
      },
      "execution_count": null,
      "outputs": []
    },
    {
      "cell_type": "code",
      "source": [
        "# To standarize data using scikit learn\n",
        "from sklearn.preprocessing import StandardScaler\n",
        "scaler = StandardScaler()\n",
        "X_train = scaler.fit_transform(X_train)   # standard units\n",
        "X_test=scaler.fit_transform(X_test)"
      ],
      "metadata": {
        "id": "AAIIomYNrzfM"
      },
      "execution_count": null,
      "outputs": []
    },
    {
      "cell_type": "code",
      "source": [
        "X_train"
      ],
      "metadata": {
        "colab": {
          "base_uri": "https://localhost:8080/"
        },
        "id": "5u4aeWcRr4UQ",
        "outputId": "2fad3f6b-a4c8-431d-ca44-ddc089d2ce2a"
      },
      "execution_count": null,
      "outputs": [
        {
          "output_type": "execute_result",
          "data": {
            "text/plain": [
              "array([[-0.23712699, -1.44075296, -0.43531947, ...,  2.09724217,\n",
              "         1.88645014,         nan],\n",
              "       [-0.23702031,  1.97409619,  1.73302577, ...,  1.89116053,\n",
              "         2.49783848,         nan],\n",
              "       [-0.23712907, -1.39998202, -1.24962228, ...,  0.59760192,\n",
              "         0.0578942 ,         nan],\n",
              "       ...,\n",
              "       [-0.17630431,  0.04880192, -0.55500086, ..., -0.70863864,\n",
              "        -1.27145475,         nan],\n",
              "       [-0.23675669, -0.03896885,  0.10207345, ...,  0.43432185,\n",
              "         1.21336207,         nan],\n",
              "       [-0.2371006 , -0.54860557,  0.31327591, ..., -0.3345212 ,\n",
              "        -0.84628745,         nan]])"
            ]
          },
          "metadata": {},
          "execution_count": 44
        }
      ]
    },
    {
      "cell_type": "markdown",
      "source": [
        "BERNOULLI"
      ],
      "metadata": {
        "id": "Rfd9RJIqzFDB"
      }
    },
    {
      "cell_type": "code",
      "source": [
        "# importing classifier\n",
        "from sklearn.naive_bayes import BernoulliNB\n",
        "\n",
        "# initializaing the NB\n",
        "B_classifer = BernoulliNB()\n",
        "\n",
        "# training the model\n",
        "B_classifer.fit(X_train, y_train)\n",
        "\n",
        "# testing the model\n",
        "y_pred_B = B_classifer.predict(X_test)"
      ],
      "metadata": {
        "colab": {
          "base_uri": "https://localhost:8080/"
        },
        "id": "qZdYLCJasBRw",
        "outputId": "6d286f0b-5cf4-4160-fed1-478c1dfa1c73"
      },
      "execution_count": null,
      "outputs": [
        {
          "output_type": "stream",
          "name": "stderr",
          "text": [
            "/usr/local/lib/python3.10/dist-packages/sklearn/utils/validation.py:1143: DataConversionWarning: A column-vector y was passed when a 1d array was expected. Please change the shape of y to (n_samples, ), for example using ravel().\n",
            "  y = column_or_1d(y, warn=True)\n"
          ]
        }
      ]
    },
    {
      "cell_type": "markdown",
      "source": [
        "BERNOULLI ACCURACY"
      ],
      "metadata": {
        "id": "ZAHb-VFuzHuE"
      }
    },
    {
      "cell_type": "code",
      "source": [
        "# importing accuracy score\n",
        "from sklearn.metrics import accuracy_score\n",
        "\n",
        "# printing the accuracy of the model\n",
        "print(accuracy_score(y_test,y_pred_B))"
      ],
      "metadata": {
        "colab": {
          "base_uri": "https://localhost:8080/"
        },
        "id": "iHhPBOLWsKZL",
        "outputId": "5847fa91-3dee-4dd9-c119-388b0b9e9faa"
      },
      "execution_count": null,
      "outputs": [
        {
          "output_type": "stream",
          "name": "stdout",
          "text": [
            "0.9440559440559441\n"
          ]
        }
      ]
    },
    {
      "cell_type": "markdown",
      "source": [
        "BERNOULLI HEATMAP"
      ],
      "metadata": {
        "id": "YEQMZ1BHzj-p"
      }
    },
    {
      "cell_type": "code",
      "source": [
        "# importing the required modules\n",
        "import seaborn as sns\n",
        "from sklearn.metrics import confusion_matrix\n",
        "\n",
        "# passing actual and predicted values\n",
        "cmB = confusion_matrix(y_test, y_pred_B)\n",
        "\n",
        "# true write data values in each cell of the matrix\n",
        "sB=sns.heatmap(cmB, annot=True)\n",
        "# plt.savefig('confusion.png')\n",
        "plt.show()"
      ],
      "metadata": {
        "colab": {
          "base_uri": "https://localhost:8080/",
          "height": 430
        },
        "id": "QxUrOoh_sxAI",
        "outputId": "c832e571-03db-4d83-d605-aeefb3d1a5cb"
      },
      "execution_count": null,
      "outputs": [
        {
          "output_type": "display_data",
          "data": {
            "text/plain": [
              "<Figure size 640x480 with 2 Axes>"
            ],
            "image/png": "[encoded data removed]"
          },
          "metadata": {}
        }
      ]
    },
    {
      "cell_type": "code",
      "source": [
        "# you can show the confusion matrix directly\n",
        "cmB"
      ],
      "metadata": {
        "colab": {
          "base_uri": "https://localhost:8080/"
        },
        "id": "FGCYWyj_s8Vk",
        "outputId": "ae1409d3-771f-48bb-c407-84810251f510"
      },
      "execution_count": null,
      "outputs": [
        {
          "output_type": "execute_result",
          "data": {
            "text/plain": [
              "array([[85,  4],\n",
              "       [ 4, 50]])"
            ]
          },
          "metadata": {},
          "execution_count": 56
        }
      ]
    },
    {
      "cell_type": "markdown",
      "source": [
        "GAUSSIAN MODEL"
      ],
      "metadata": {
        "id": "BdFuMQl-z1i8"
      }
    },
    {
      "cell_type": "code",
      "source": [
        "# import Gaussian Naive Bayes model\n",
        "from sklearn.naive_bayes import GaussianNB\n",
        "\n",
        "# create a Gaussian Classifier\n",
        "model = GaussianNB()\n",
        "\n",
        "# train the model using the training sets\n",
        "model.fit(diagnosis_encoded.reshape(-1, 1), y)"
      ],
      "metadata": {
        "colab": {
          "base_uri": "https://localhost:8080/",
          "height": 130
        },
        "id": "_17oSv6L0cDU",
        "outputId": "c87b94e4-1e80-46ab-d76d-ed87e42a7614"
      },
      "execution_count": null,
      "outputs": [
        {
          "output_type": "stream",
          "name": "stderr",
          "text": [
            "/usr/local/lib/python3.10/dist-packages/sklearn/utils/validation.py:1143: DataConversionWarning: A column-vector y was passed when a 1d array was expected. Please change the shape of y to (n_samples, ), for example using ravel().\n",
            "  y = column_or_1d(y, warn=True)\n"
          ]
        },
        {
          "output_type": "execute_result",
          "data": {
            "text/plain": [
              "GaussianNB()"
            ],
            "text/html": [
              "<style>#sk-container-id-6 {color: black;background-color: white;}#sk-container-id-6 pre{padding: 0;}#sk-container-id-6 div.sk-toggleable {background-color: white;}#sk-container-id-6 label.sk-toggleable__label {cursor: pointer;display: block;width: 100%;margin-bottom: 0;padding: 0.3em;box-sizing: border-box;text-align: center;}#sk-container-id-6 label.sk-toggleable__label-arrow:before {content: \"▸\";float: left;margin-right: 0.25em;color: #696969;}#sk-container-id-6 label.sk-toggleable__label-arrow:hover:before {color: black;}#sk-container-id-6 div.sk-estimator:hover label.sk-toggleable__label-arrow:before {color: black;}#sk-container-id-6 div.sk-toggleable__content {max-height: 0;max-width: 0;overflow: hidden;text-align: left;background-color: #f0f8ff;}#sk-container-id-6 div.sk-toggleable__content pre {margin: 0.2em;color: black;border-radius: 0.25em;background-color: #f0f8ff;}#sk-container-id-6 input.sk-toggleable__control:checked~div.sk-toggleable__content {max-height: 200px;max-width: 100%;overflow: auto;}#sk-container-id-6 input.sk-toggleable__control:checked~label.sk-toggleable__label-arrow:before {content: \"▾\";}#sk-container-id-6 div.sk-estimator input.sk-toggleable__control:checked~label.sk-toggleable__label {background-color: #d4ebff;}#sk-container-id-6 div.sk-label input.sk-toggleable__control:checked~label.sk-toggleable__label {background-color: #d4ebff;}#sk-container-id-6 input.sk-hidden--visually {border: 0;clip: rect(1px 1px 1px 1px);clip: rect(1px, 1px, 1px, 1px);height: 1px;margin: -1px;overflow: hidden;padding: 0;position: absolute;width: 1px;}#sk-container-id-6 div.sk-estimator {font-family: monospace;background-color: #f0f8ff;border: 1px dotted black;border-radius: 0.25em;box-sizing: border-box;margin-bottom: 0.5em;}#sk-container-id-6 div.sk-estimator:hover {background-color: #d4ebff;}#sk-container-id-6 div.sk-parallel-item::after {content: \"\";width: 100%;border-bottom: 1px solid gray;flex-grow: 1;}#sk-container-id-6 div.sk-label:hover label.sk-toggleable__label {background-color: #d4ebff;}#sk-container-id-6 div.sk-serial::before {content: \"\";position: absolute;border-left: 1px solid gray;box-sizing: border-box;top: 0;bottom: 0;left: 50%;z-index: 0;}#sk-container-id-6 div.sk-serial {display: flex;flex-direction: column;align-items: center;background-color: white;padding-right: 0.2em;padding-left: 0.2em;position: relative;}#sk-container-id-6 div.sk-item {position: relative;z-index: 1;}#sk-container-id-6 div.sk-parallel {display: flex;align-items: stretch;justify-content: center;background-color: white;position: relative;}#sk-container-id-6 div.sk-item::before, #sk-container-id-6 div.sk-parallel-item::before {content: \"\";position: absolute;border-left: 1px solid gray;box-sizing: border-box;top: 0;bottom: 0;left: 50%;z-index: -1;}#sk-container-id-6 div.sk-parallel-item {display: flex;flex-direction: column;z-index: 1;position: relative;background-color: white;}#sk-container-id-6 div.sk-parallel-item:first-child::after {align-self: flex-end;width: 50%;}#sk-container-id-6 div.sk-parallel-item:last-child::after {align-self: flex-start;width: 50%;}#sk-container-id-6 div.sk-parallel-item:only-child::after {width: 0;}#sk-container-id-6 div.sk-dashed-wrapped {border: 1px dashed gray;margin: 0 0.4em 0.5em 0.4em;box-sizing: border-box;padding-bottom: 0.4em;background-color: white;}#sk-container-id-6 div.sk-label label {font-family: monospace;font-weight: bold;display: inline-block;line-height: 1.2em;}#sk-container-id-6 div.sk-label-container {text-align: center;}#sk-container-id-6 div.sk-container {/* jupyter's `normalize.less` sets `[hidden] { display: none; }` but bootstrap.min.css set `[hidden] { display: none !important; }` so we also need the `!important` here to be able to override the default hidden behavior on the sphinx rendered scikit-learn.org. See: https://github.com/scikit-learn/scikit-learn/issues/21755 */display: inline-block !important;position: relative;}#sk-container-id-6 div.sk-text-repr-fallback {display: none;}</style><div id=\"sk-container-id-6\" class=\"sk-top-container\"><div class=\"sk-text-repr-fallback\"><pre>GaussianNB()</pre><b>In a Jupyter environment, please rerun this cell to show the HTML representation or trust the notebook. <br />On GitHub, the HTML representation is unable to render, please try loading this page with nbviewer.org.</b></div><div class=\"sk-container\" hidden><div class=\"sk-item\"><div class=\"sk-estimator sk-toggleable\"><input class=\"sk-toggleable__control sk-hidden--visually\" id=\"sk-estimator-id-6\" type=\"checkbox\" checked><label for=\"sk-estimator-id-6\" class=\"sk-toggleable__label sk-toggleable__label-arrow\">GaussianNB</label><div class=\"sk-toggleable__content\"><pre>GaussianNB()</pre></div></div></div></div></div>"
            ]
          },
          "metadata": {},
          "execution_count": 94
        }
      ]
    },
    {
      "cell_type": "markdown",
      "source": [
        "GAUSSIAN ACCURACY"
      ],
      "metadata": {
        "id": "0-nyUoOAz5kf"
      }
    },
    {
      "cell_type": "code",
      "source": [
        "# importing accuracy score\n",
        "from sklearn.metrics import accuracy_score\n",
        "\n",
        "# printing the accuracy of the model\n",
        "print(accuracy_score(y_test,y_pred_G))"
      ],
      "metadata": {
        "colab": {
          "base_uri": "https://localhost:8080/"
        },
        "id": "IYHgKli0z3wt",
        "outputId": "95d79ab2-51eb-48ea-c6d9-d55d81e55dbe"
      },
      "execution_count": null,
      "outputs": [
        {
          "output_type": "stream",
          "name": "stdout",
          "text": [
            "0.9090909090909091\n"
          ]
        }
      ]
    },
    {
      "cell_type": "markdown",
      "source": [
        "GAUSSIAN HEATMAP"
      ],
      "metadata": {
        "id": "5AIMrSBz0LJK"
      }
    },
    {
      "cell_type": "code",
      "source": [
        "# importing the required modules\n",
        "import seaborn as sns\n",
        "from sklearn.metrics import confusion_matrix\n",
        "\n",
        "# passing actual and predicted values\n",
        "cmG = confusion_matrix(y_test, y_pred_G)\n",
        "\n",
        "# true write data values in each cell of the matrix\n",
        "sG=sns.heatmap(cmG,annot=True)\n",
        "\n",
        "# plt.savefig('confusion1.png')\n",
        "plt.show()"
      ],
      "metadata": {
        "colab": {
          "base_uri": "https://localhost:8080/",
          "height": 430
        },
        "id": "vL4x7EqT0F3Y",
        "outputId": "fc373817-3aba-4a7f-b751-ccff361add0e"
      },
      "execution_count": null,
      "outputs": [
        {
          "output_type": "display_data",
          "data": {
            "text/plain": [
              "<Figure size 640x480 with 2 Axes>"
            ],
            "image/png": "[encoded data removed]"
          },
          "metadata": {}
        }
      ]
    },
    {
      "cell_type": "code",
      "source": [
        "# you can show the confusion matrix directly\n",
        "cmG"
      ],
      "metadata": {
        "colab": {
          "base_uri": "https://localhost:8080/"
        },
        "id": "vxwwJIyXtHxC",
        "outputId": "653b78e9-cb9f-487f-92ef-bb05e6fc0fbe"
      },
      "execution_count": null,
      "outputs": [
        {
          "output_type": "execute_result",
          "data": {
            "text/plain": [
              "array([[84,  5],\n",
              "       [ 8, 46]])"
            ]
          },
          "metadata": {},
          "execution_count": 93
        }
      ]
    },
    {
      "cell_type": "code",
      "source": [
        "# Import LabelEncoder\n",
        "from sklearn import preprocessing\n",
        "\n",
        "# creating LabelEncoder\n",
        "labelCode = preprocessing.LabelEncoder()\n",
        "\n",
        "# Converting string labels into numbers.\n",
        "diagnosis_encoded =labelCode.fit_transform(y)\n",
        "\n",
        "print(diagnosis_encoded)"
      ],
      "metadata": {
        "colab": {
          "base_uri": "https://localhost:8080/"
        },
        "id": "9HSlGWqmx_Wk",
        "outputId": "ac0cb88f-5d29-4313-db9f-84a9c306059c"
      },
      "execution_count": null,
      "outputs": [
        {
          "output_type": "stream",
          "name": "stdout",
          "text": [
            "[1 1 1 1 1 1 1 1 1 1 1 1 1 1 1 1 1 1 1 0 0 0 1 1 1 1 1 1 1 1 1 1 1 1 1 1 1\n",
            " 0 1 1 1 1 1 1 1 1 0 1 0 0 0 0 0 1 1 0 1 1 0 0 0 0 1 0 1 1 0 0 0 0 1 0 1 1\n",
            " 0 1 0 1 1 0 0 0 1 1 0 1 1 1 0 0 0 1 0 0 1 1 0 0 0 1 1 0 0 0 0 1 0 0 1 0 0\n",
            " 0 0 0 0 0 0 1 1 1 0 1 1 0 0 0 1 1 0 1 0 1 1 0 1 1 0 0 1 0 0 1 0 0 0 0 1 0\n",
            " 0 0 0 0 0 0 0 0 1 0 0 0 0 1 1 0 1 0 0 1 1 0 0 1 1 0 0 0 0 1 0 0 1 1 1 0 1\n",
            " 0 1 0 0 0 1 0 0 1 1 0 1 1 1 1 0 1 1 1 0 1 0 1 0 0 1 0 1 1 1 1 0 0 1 1 0 0\n",
            " 0 1 0 0 0 0 0 1 1 0 0 1 0 0 1 1 0 1 0 0 0 0 1 0 0 0 0 0 1 0 1 1 1 1 1 1 1\n",
            " 1 1 1 1 1 1 1 0 0 0 0 0 0 1 0 1 0 0 1 0 0 1 0 1 1 0 0 0 0 0 0 0 0 0 0 0 0\n",
            " 0 1 0 0 1 0 1 0 0 0 0 0 0 0 0 0 0 0 0 0 0 1 0 0 0 1 0 1 0 0 0 0 1 1 1 0 0\n",
            " 0 0 1 0 1 0 1 0 0 0 1 0 0 0 0 0 0 0 1 1 1 0 0 0 0 0 0 0 0 0 0 0 1 1 0 1 1\n",
            " 1 0 1 1 0 0 0 0 0 1 0 0 0 0 0 1 0 0 0 1 0 0 1 1 0 0 0 0 0 0 1 0 0 0 0 0 0\n",
            " 0 1 0 0 0 0 0 1 0 0 1 0 0 0 0 0 0 0 0 0 0 0 0 1 0 1 1 0 1 0 0 0 0 0 1 0 0\n",
            " 1 0 1 0 0 1 0 1 0 0 0 0 0 0 0 0 1 1 0 0 0 0 0 0 1 0 0 0 0 0 0 0 0 0 0 1 0\n",
            " 0 0 0 0 0 0 1 0 1 0 0 1 0 0 0 0 0 1 1 0 1 0 1 0 0 0 0 0 1 0 0 1 0 1 0 1 1\n",
            " 0 0 0 1 0 0 0 0 0 0 0 0 0 0 0 1 0 1 1 0 0 0 0 0 0 0 0 0 0 0 0 0 0 0 0 0 0\n",
            " 0 0 0 0 0 0 0 1 1 1 1 1 1 0]\n"
          ]
        },
        {
          "output_type": "stream",
          "name": "stderr",
          "text": [
            "/usr/local/lib/python3.10/dist-packages/sklearn/preprocessing/_label.py:116: DataConversionWarning: A column-vector y was passed when a 1d array was expected. Please change the shape of y to (n_samples, ), for example using ravel().\n",
            "  y = column_or_1d(y, warn=True)\n"
          ]
        }
      ]
    },
    {
      "cell_type": "code",
      "source": [
        "X.isnull()"
      ],
      "metadata": {
        "colab": {
          "base_uri": "https://localhost:8080/",
          "height": 505
        },
        "id": "Z_kJPvV4yqvu",
        "outputId": "1a83e696-b68a-438b-9df0-c6d7d7e36460"
      },
      "execution_count": null,
      "outputs": [
        {
          "output_type": "execute_result",
          "data": {
            "text/plain": [
              "     radius_mean  texture_mean  perimeter_mean  area_mean  smoothness_mean  \\\n",
              "0          False         False           False      False            False   \n",
              "1          False         False           False      False            False   \n",
              "2          False         False           False      False            False   \n",
              "3          False         False           False      False            False   \n",
              "4          False         False           False      False            False   \n",
              "..           ...           ...             ...        ...              ...   \n",
              "564        False         False           False      False            False   \n",
              "565        False         False           False      False            False   \n",
              "566        False         False           False      False            False   \n",
              "567        False         False           False      False            False   \n",
              "568        False         False           False      False            False   \n",
              "\n",
              "     compactness_mean  concavity_mean  concave points_mean  symmetry_mean  \\\n",
              "0               False           False                False          False   \n",
              "1               False           False                False          False   \n",
              "2               False           False                False          False   \n",
              "3               False           False                False          False   \n",
              "4               False           False                False          False   \n",
              "..                ...             ...                  ...            ...   \n",
              "564             False           False                False          False   \n",
              "565             False           False                False          False   \n",
              "566             False           False                False          False   \n",
              "567             False           False                False          False   \n",
              "568             False           False                False          False   \n",
              "\n",
              "     fractal_dimension_mean  ...  radius_worst  texture_worst  \\\n",
              "0                     False  ...         False          False   \n",
              "1                     False  ...         False          False   \n",
              "2                     False  ...         False          False   \n",
              "3                     False  ...         False          False   \n",
              "4                     False  ...         False          False   \n",
              "..                      ...  ...           ...            ...   \n",
              "564                   False  ...         False          False   \n",
              "565                   False  ...         False          False   \n",
              "566                   False  ...         False          False   \n",
              "567                   False  ...         False          False   \n",
              "568                   False  ...         False          False   \n",
              "\n",
              "     perimeter_worst  area_worst  smoothness_worst  compactness_worst  \\\n",
              "0              False       False             False              False   \n",
              "1              False       False             False              False   \n",
              "2              False       False             False              False   \n",
              "3              False       False             False              False   \n",
              "4              False       False             False              False   \n",
              "..               ...         ...               ...                ...   \n",
              "564            False       False             False              False   \n",
              "565            False       False             False              False   \n",
              "566            False       False             False              False   \n",
              "567            False       False             False              False   \n",
              "568            False       False             False              False   \n",
              "\n",
              "     concavity_worst  concave points_worst  symmetry_worst  \\\n",
              "0              False                 False           False   \n",
              "1              False                 False           False   \n",
              "2              False                 False           False   \n",
              "3              False                 False           False   \n",
              "4              False                 False           False   \n",
              "..               ...                   ...             ...   \n",
              "564            False                 False           False   \n",
              "565            False                 False           False   \n",
              "566            False                 False           False   \n",
              "567            False                 False           False   \n",
              "568            False                 False           False   \n",
              "\n",
              "     fractal_dimension_worst  \n",
              "0                      False  \n",
              "1                      False  \n",
              "2                      False  \n",
              "3                      False  \n",
              "4                      False  \n",
              "..                       ...  \n",
              "564                    False  \n",
              "565                    False  \n",
              "566                    False  \n",
              "567                    False  \n",
              "568                    False  \n",
              "\n",
              "[569 rows x 30 columns]"
            ],
            "text/html": [
              "\n",
              "\n",
              "  <div id=\"df-44a81187-3100-44ef-b5f0-cbf750452080\">\n",
              "    <div class=\"colab-df-container\">\n",
              "      <div>\n",
              "<style scoped>\n",
              "    .dataframe tbody tr th:only-of-type {\n",
              "        vertical-align: middle;\n",
              "    }\n",
              "\n",
              "    .dataframe tbody tr th {\n",
              "        vertical-align: top;\n",
              "    }\n",
              "\n",
              "    .dataframe thead th {\n",
              "        text-align: right;\n",
              "    }\n",
              "</style>\n",
              "<table border=\"1\" class=\"dataframe\">\n",
              "  <thead>\n",
              "    <tr style=\"text-align: right;\">\n",
              "      <th></th>\n",
              "      <th>radius_mean</th>\n",
              "      <th>texture_mean</th>\n",
              "      <th>perimeter_mean</th>\n",
              "      <th>area_mean</th>\n",
              "      <th>smoothness_mean</th>\n",
              "      <th>compactness_mean</th>\n",
              "      <th>concavity_mean</th>\n",
              "      <th>concave points_mean</th>\n",
              "      <th>symmetry_mean</th>\n",
              "      <th>fractal_dimension_mean</th>\n",
              "      <th>...</th>\n",
              "      <th>radius_worst</th>\n",
              "      <th>texture_worst</th>\n",
              "      <th>perimeter_worst</th>\n",
              "      <th>area_worst</th>\n",
              "      <th>smoothness_worst</th>\n",
              "      <th>compactness_worst</th>\n",
              "      <th>concavity_worst</th>\n",
              "      <th>concave points_worst</th>\n",
              "      <th>symmetry_worst</th>\n",
              "      <th>fractal_dimension_worst</th>\n",
              "    </tr>\n",
              "  </thead>\n",
              "  <tbody>\n",
              "    <tr>\n",
              "      <th>0</th>\n",
              "      <td>False</td>\n",
              "      <td>False</td>\n",
              "      <td>False</td>\n",
              "      <td>False</td>\n",
              "      <td>False</td>\n",
              "      <td>False</td>\n",
              "      <td>False</td>\n",
              "      <td>False</td>\n",
              "      <td>False</td>\n",
              "      <td>False</td>\n",
              "      <td>...</td>\n",
              "      <td>False</td>\n",
              "      <td>False</td>\n",
              "      <td>False</td>\n",
              "      <td>False</td>\n",
              "      <td>False</td>\n",
              "      <td>False</td>\n",
              "      <td>False</td>\n",
              "      <td>False</td>\n",
              "      <td>False</td>\n",
              "      <td>False</td>\n",
              "    </tr>\n",
              "    <tr>\n",
              "      <th>1</th>\n",
              "      <td>False</td>\n",
              "      <td>False</td>\n",
              "      <td>False</td>\n",
              "      <td>False</td>\n",
              "      <td>False</td>\n",
              "      <td>False</td>\n",
              "      <td>False</td>\n",
              "      <td>False</td>\n",
              "      <td>False</td>\n",
              "      <td>False</td>\n",
              "      <td>...</td>\n",
              "      <td>False</td>\n",
              "      <td>False</td>\n",
              "      <td>False</td>\n",
              "      <td>False</td>\n",
              "      <td>False</td>\n",
              "      <td>False</td>\n",
              "      <td>False</td>\n",
              "      <td>False</td>\n",
              "      <td>False</td>\n",
              "      <td>False</td>\n",
              "    </tr>\n",
              "    <tr>\n",
              "      <th>2</th>\n",
              "      <td>False</td>\n",
              "      <td>False</td>\n",
              "      <td>False</td>\n",
              "      <td>False</td>\n",
              "      <td>False</td>\n",
              "      <td>False</td>\n",
              "      <td>False</td>\n",
              "      <td>False</td>\n",
              "      <td>False</td>\n",
              "      <td>False</td>\n",
              "      <td>...</td>\n",
              "      <td>False</td>\n",
              "      <td>False</td>\n",
              "      <td>False</td>\n",
              "      <td>False</td>\n",
              "      <td>False</td>\n",
              "      <td>False</td>\n",
              "      <td>False</td>\n",
              "      <td>False</td>\n",
              "      <td>False</td>\n",
              "      <td>False</td>\n",
              "    </tr>\n",
              "    <tr>\n",
              "      <th>3</th>\n",
              "      <td>False</td>\n",
              "      <td>False</td>\n",
              "      <td>False</td>\n",
              "      <td>False</td>\n",
              "      <td>False</td>\n",
              "      <td>False</td>\n",
              "      <td>False</td>\n",
              "      <td>False</td>\n",
              "      <td>False</td>\n",
              "      <td>False</td>\n",
              "      <td>...</td>\n",
              "      <td>False</td>\n",
              "      <td>False</td>\n",
              "      <td>False</td>\n",
              "      <td>False</td>\n",
              "      <td>False</td>\n",
              "      <td>False</td>\n",
              "      <td>False</td>\n",
              "      <td>False</td>\n",
              "      <td>False</td>\n",
              "      <td>False</td>\n",
              "    </tr>\n",
              "    <tr>\n",
              "      <th>4</th>\n",
              "      <td>False</td>\n",
              "      <td>False</td>\n",
              "      <td>False</td>\n",
              "      <td>False</td>\n",
              "      <td>False</td>\n",
              "      <td>False</td>\n",
              "      <td>False</td>\n",
              "      <td>False</td>\n",
              "      <td>False</td>\n",
              "      <td>False</td>\n",
              "      <td>...</td>\n",
              "      <td>False</td>\n",
              "      <td>False</td>\n",
              "      <td>False</td>\n",
              "      <td>False</td>\n",
              "      <td>False</td>\n",
              "      <td>False</td>\n",
              "      <td>False</td>\n",
              "      <td>False</td>\n",
              "      <td>False</td>\n",
              "      <td>False</td>\n",
              "    </tr>\n",
              "    <tr>\n",
              "      <th>...</th>\n",
              "      <td>...</td>\n",
              "      <td>...</td>\n",
              "      <td>...</td>\n",
              "      <td>...</td>\n",
              "      <td>...</td>\n",
              "      <td>...</td>\n",
              "      <td>...</td>\n",
              "      <td>...</td>\n",
              "      <td>...</td>\n",
              "      <td>...</td>\n",
              "      <td>...</td>\n",
              "      <td>...</td>\n",
              "      <td>...</td>\n",
              "      <td>...</td>\n",
              "      <td>...</td>\n",
              "      <td>...</td>\n",
              "      <td>...</td>\n",
              "      <td>...</td>\n",
              "      <td>...</td>\n",
              "      <td>...</td>\n",
              "      <td>...</td>\n",
              "    </tr>\n",
              "    <tr>\n",
              "      <th>564</th>\n",
              "      <td>False</td>\n",
              "      <td>False</td>\n",
              "      <td>False</td>\n",
              "      <td>False</td>\n",
              "      <td>False</td>\n",
              "      <td>False</td>\n",
              "      <td>False</td>\n",
              "      <td>False</td>\n",
              "      <td>False</td>\n",
              "      <td>False</td>\n",
              "      <td>...</td>\n",
              "      <td>False</td>\n",
              "      <td>False</td>\n",
              "      <td>False</td>\n",
              "      <td>False</td>\n",
              "      <td>False</td>\n",
              "      <td>False</td>\n",
              "      <td>False</td>\n",
              "      <td>False</td>\n",
              "      <td>False</td>\n",
              "      <td>False</td>\n",
              "    </tr>\n",
              "    <tr>\n",
              "      <th>565</th>\n",
              "      <td>False</td>\n",
              "      <td>False</td>\n",
              "      <td>False</td>\n",
              "      <td>False</td>\n",
              "      <td>False</td>\n",
              "      <td>False</td>\n",
              "      <td>False</td>\n",
              "      <td>False</td>\n",
              "      <td>False</td>\n",
              "      <td>False</td>\n",
              "      <td>...</td>\n",
              "      <td>False</td>\n",
              "      <td>False</td>\n",
              "      <td>False</td>\n",
              "      <td>False</td>\n",
              "      <td>False</td>\n",
              "      <td>False</td>\n",
              "      <td>False</td>\n",
              "      <td>False</td>\n",
              "      <td>False</td>\n",
              "      <td>False</td>\n",
              "    </tr>\n",
              "    <tr>\n",
              "      <th>566</th>\n",
              "      <td>False</td>\n",
              "      <td>False</td>\n",
              "      <td>False</td>\n",
              "      <td>False</td>\n",
              "      <td>False</td>\n",
              "      <td>False</td>\n",
              "      <td>False</td>\n",
              "      <td>False</td>\n",
              "      <td>False</td>\n",
              "      <td>False</td>\n",
              "      <td>...</td>\n",
              "      <td>False</td>\n",
              "      <td>False</td>\n",
              "      <td>False</td>\n",
              "      <td>False</td>\n",
              "      <td>False</td>\n",
              "      <td>False</td>\n",
              "      <td>False</td>\n",
              "      <td>False</td>\n",
              "      <td>False</td>\n",
              "      <td>False</td>\n",
              "    </tr>\n",
              "    <tr>\n",
              "      <th>567</th>\n",
              "      <td>False</td>\n",
              "      <td>False</td>\n",
              "      <td>False</td>\n",
              "      <td>False</td>\n",
              "      <td>False</td>\n",
              "      <td>False</td>\n",
              "      <td>False</td>\n",
              "      <td>False</td>\n",
              "      <td>False</td>\n",
              "      <td>False</td>\n",
              "      <td>...</td>\n",
              "      <td>False</td>\n",
              "      <td>False</td>\n",
              "      <td>False</td>\n",
              "      <td>False</td>\n",
              "      <td>False</td>\n",
              "      <td>False</td>\n",
              "      <td>False</td>\n",
              "      <td>False</td>\n",
              "      <td>False</td>\n",
              "      <td>False</td>\n",
              "    </tr>\n",
              "    <tr>\n",
              "      <th>568</th>\n",
              "      <td>False</td>\n",
              "      <td>False</td>\n",
              "      <td>False</td>\n",
              "      <td>False</td>\n",
              "      <td>False</td>\n",
              "      <td>False</td>\n",
              "      <td>False</td>\n",
              "      <td>False</td>\n",
              "      <td>False</td>\n",
              "      <td>False</td>\n",
              "      <td>...</td>\n",
              "      <td>False</td>\n",
              "      <td>False</td>\n",
              "      <td>False</td>\n",
              "      <td>False</td>\n",
              "      <td>False</td>\n",
              "      <td>False</td>\n",
              "      <td>False</td>\n",
              "      <td>False</td>\n",
              "      <td>False</td>\n",
              "      <td>False</td>\n",
              "    </tr>\n",
              "  </tbody>\n",
              "</table>\n",
              "<p>569 rows × 30 columns</p>\n",
              "</div>\n",
              "      <button class=\"colab-df-convert\" onclick=\"convertToInteractive('df-44a81187-3100-44ef-b5f0-cbf750452080')\"\n",
              "              title=\"Convert this dataframe to an interactive table.\"\n",
              "              style=\"display:none;\">\n",
              "\n",
              "  <svg xmlns=\"http://www.w3.org/2000/svg\" height=\"24px\"viewBox=\"0 0 24 24\"\n",
              "       width=\"24px\">\n",
              "    <path d=\"M0 0h24v24H0V0z\" fill=\"none\"/>\n",
              "    <path d=\"M18.56 5.44l.94 2.06.94-2.06 2.06-.94-2.06-.94-.94-2.06-.94 2.06-2.06.94zm-11 1L8.5 8.5l.94-2.06 2.06-.94-2.06-.94L8.5 2.5l-.94 2.06-2.06.94zm10 10l.94 2.06.94-2.06 2.06-.94-2.06-.94-.94-2.06-.94 2.06-2.06.94z\"/><path d=\"M17.41 7.96l-1.37-1.37c-.4-.4-.92-.59-1.43-.59-.52 0-1.04.2-1.43.59L10.3 9.45l-7.72 7.72c-.78.78-.78 2.05 0 2.83L4 21.41c.39.39.9.59 1.41.59.51 0 1.02-.2 1.41-.59l7.78-7.78 2.81-2.81c.8-.78.8-2.07 0-2.86zM5.41 20L4 18.59l7.72-7.72 1.47 1.35L5.41 20z\"/>\n",
              "  </svg>\n",
              "      </button>\n",
              "\n",
              "\n",
              "\n",
              "    <div id=\"df-7bb03c40-fe82-4e5b-ac28-2046e24e02d7\">\n",
              "      <button class=\"colab-df-quickchart\" onclick=\"quickchart('df-7bb03c40-fe82-4e5b-ac28-2046e24e02d7')\"\n",
              "              title=\"Suggest charts.\"\n",
              "              style=\"display:none;\">\n",
              "\n",
              "<svg xmlns=\"http://www.w3.org/2000/svg\" height=\"24px\"viewBox=\"0 0 24 24\"\n",
              "     width=\"24px\">\n",
              "    <g>\n",
              "        <path d=\"M19 3H5c-1.1 0-2 .9-2 2v14c0 1.1.9 2 2 2h14c1.1 0 2-.9 2-2V5c0-1.1-.9-2-2-2zM9 17H7v-7h2v7zm4 0h-2V7h2v10zm4 0h-2v-4h2v4z\"/>\n",
              "    </g>\n",
              "</svg>\n",
              "      </button>\n",
              "    </div>\n",
              "\n",
              "<style>\n",
              "  .colab-df-quickchart {\n",
              "    background-color: #E8F0FE;\n",
              "    border: none;\n",
              "    border-radius: 50%;\n",
              "    cursor: pointer;\n",
              "    display: none;\n",
              "    fill: #1967D2;\n",
              "    height: 32px;\n",
              "    padding: 0 0 0 0;\n",
              "    width: 32px;\n",
              "  }\n",
              "\n",
              "  .colab-df-quickchart:hover {\n",
              "    background-color: #E2EBFA;\n",
              "    box-shadow: 0px 1px 2px rgba(60, 64, 67, 0.3), 0px 1px 3px 1px rgba(60, 64, 67, 0.15);\n",
              "    fill: #174EA6;\n",
              "  }\n",
              "\n",
              "  [theme=dark] .colab-df-quickchart {\n",
              "    background-color: #3B4455;\n",
              "    fill: #D2E3FC;\n",
              "  }\n",
              "\n",
              "  [theme=dark] .colab-df-quickchart:hover {\n",
              "    background-color: #434B5C;\n",
              "    box-shadow: 0px 1px 3px 1px rgba(0, 0, 0, 0.15);\n",
              "    filter: drop-shadow(0px 1px 2px rgba(0, 0, 0, 0.3));\n",
              "    fill: #FFFFFF;\n",
              "  }\n",
              "</style>\n",
              "\n",
              "    <script>\n",
              "      async function quickchart(key) {\n",
              "        const containerElement = document.querySelector('#' + key);\n",
              "        const charts = await google.colab.kernel.invokeFunction(\n",
              "            'suggestCharts', [key], {});\n",
              "      }\n",
              "    </script>\n",
              "\n",
              "      <script>\n",
              "\n",
              "function displayQuickchartButton(domScope) {\n",
              "  let quickchartButtonEl =\n",
              "    domScope.querySelector('#df-7bb03c40-fe82-4e5b-ac28-2046e24e02d7 button.colab-df-quickchart');\n",
              "  quickchartButtonEl.style.display =\n",
              "    google.colab.kernel.accessAllowed ? 'block' : 'none';\n",
              "}\n",
              "\n",
              "        displayQuickchartButton(document);\n",
              "      </script>\n",
              "      <style>\n",
              "    .colab-df-container {\n",
              "      display:flex;\n",
              "      flex-wrap:wrap;\n",
              "      gap: 12px;\n",
              "    }\n",
              "\n",
              "    .colab-df-convert {\n",
              "      background-color: #E8F0FE;\n",
              "      border: none;\n",
              "      border-radius: 50%;\n",
              "      cursor: pointer;\n",
              "      display: none;\n",
              "      fill: #1967D2;\n",
              "      height: 32px;\n",
              "      padding: 0 0 0 0;\n",
              "      width: 32px;\n",
              "    }\n",
              "\n",
              "    .colab-df-convert:hover {\n",
              "      background-color: #E2EBFA;\n",
              "      box-shadow: 0px 1px 2px rgba(60, 64, 67, 0.3), 0px 1px 3px 1px rgba(60, 64, 67, 0.15);\n",
              "      fill: #174EA6;\n",
              "    }\n",
              "\n",
              "    [theme=dark] .colab-df-convert {\n",
              "      background-color: #3B4455;\n",
              "      fill: #D2E3FC;\n",
              "    }\n",
              "\n",
              "    [theme=dark] .colab-df-convert:hover {\n",
              "      background-color: #434B5C;\n",
              "      box-shadow: 0px 1px 3px 1px rgba(0, 0, 0, 0.15);\n",
              "      filter: drop-shadow(0px 1px 2px rgba(0, 0, 0, 0.3));\n",
              "      fill: #FFFFFF;\n",
              "    }\n",
              "  </style>\n",
              "\n",
              "      <script>\n",
              "        const buttonEl =\n",
              "          document.querySelector('#df-44a81187-3100-44ef-b5f0-cbf750452080 button.colab-df-convert');\n",
              "        buttonEl.style.display =\n",
              "          google.colab.kernel.accessAllowed ? 'block' : 'none';\n",
              "\n",
              "        async function convertToInteractive(key) {\n",
              "          const element = document.querySelector('#df-44a81187-3100-44ef-b5f0-cbf750452080');\n",
              "          const dataTable =\n",
              "            await google.colab.kernel.invokeFunction('convertToInteractive',\n",
              "                                                     [key], {});\n",
              "          if (!dataTable) return;\n",
              "\n",
              "          const docLinkHtml = 'Like what you see? Visit the ' +\n",
              "            '<a target=\"_blank\" href=https://colab.research.google.com/notebooks/data_table.ipynb>data table notebook</a>'\n",
              "            + ' to learn more about interactive tables.';\n",
              "          element.innerHTML = '';\n",
              "          dataTable['output_type'] = 'display_data';\n",
              "          await google.colab.output.renderOutput(dataTable, element);\n",
              "          const docLink = document.createElement('div');\n",
              "          docLink.innerHTML = docLinkHtml;\n",
              "          element.appendChild(docLink);\n",
              "        }\n",
              "      </script>\n",
              "    </div>\n",
              "  </div>\n"
            ]
          },
          "metadata": {},
          "execution_count": 96
        }
      ]
    },
    {
      "cell_type": "code",
      "source": [
        "X.isnull().sum()"
      ],
      "metadata": {
        "colab": {
          "base_uri": "https://localhost:8080/"
        },
        "id": "OMC7qvOYyvCu",
        "outputId": "68be1291-a853-4501-a99e-6ceb7391a4ac"
      },
      "execution_count": null,
      "outputs": [
        {
          "output_type": "execute_result",
          "data": {
            "text/plain": [
              "radius_mean                0\n",
              "texture_mean               0\n",
              "perimeter_mean             0\n",
              "area_mean                  0\n",
              "smoothness_mean            0\n",
              "compactness_mean           0\n",
              "concavity_mean             0\n",
              "concave points_mean        0\n",
              "symmetry_mean              0\n",
              "fractal_dimension_mean     0\n",
              "radius_se                  0\n",
              "texture_se                 0\n",
              "perimeter_se               0\n",
              "area_se                    0\n",
              "smoothness_se              0\n",
              "compactness_se             0\n",
              "concavity_se               0\n",
              "concave points_se          0\n",
              "symmetry_se                0\n",
              "fractal_dimension_se       0\n",
              "radius_worst               0\n",
              "texture_worst              0\n",
              "perimeter_worst            0\n",
              "area_worst                 0\n",
              "smoothness_worst           0\n",
              "compactness_worst          0\n",
              "concavity_worst            0\n",
              "concave points_worst       0\n",
              "symmetry_worst             0\n",
              "fractal_dimension_worst    0\n",
              "dtype: int64"
            ]
          },
          "metadata": {},
          "execution_count": 97
        }
      ]
    },
    {
      "cell_type": "markdown",
      "source": [
        "MULTILABEL MODEL"
      ],
      "metadata": {
        "id": "yGunT7VU0_My"
      }
    },
    {
      "cell_type": "code",
      "source": [
        "# input and outputs\n",
        "independents = X\n",
        "dependent = y"
      ],
      "metadata": {
        "id": "lPptygZp1M7N"
      },
      "execution_count": null,
      "outputs": []
    },
    {
      "cell_type": "code",
      "source": [
        "# To standarize data using scikit learn\n",
        "from sklearn.preprocessing import StandardScaler\n",
        "Wine_scaler = StandardScaler()\n",
        "S_independents=Wine_scaler.fit_transform(independents)\n",
        "S_independents = scaler.fit_transform(S_independents)   # standard units"
      ],
      "metadata": {
        "id": "2WI_WWAa1VBR"
      },
      "execution_count": null,
      "outputs": []
    },
    {
      "cell_type": "code",
      "source": [
        "S_independents"
      ],
      "metadata": {
        "colab": {
          "base_uri": "https://localhost:8080/"
        },
        "id": "r7JEFKzR1ZWN",
        "outputId": "440475c4-a11a-4307-9bec-93c011123499"
      },
      "execution_count": null,
      "outputs": [
        {
          "output_type": "execute_result",
          "data": {
            "text/plain": [
              "array([[ 1.09706398, -2.07333501,  1.26993369, ...,  2.29607613,\n",
              "         2.75062224,  1.93701461],\n",
              "       [ 1.82982061, -0.35363241,  1.68595471, ...,  1.0870843 ,\n",
              "        -0.24388967,  0.28118999],\n",
              "       [ 1.57988811,  0.45618695,  1.56650313, ...,  1.95500035,\n",
              "         1.152255  ,  0.20139121],\n",
              "       ...,\n",
              "       [ 0.70228425,  2.0455738 ,  0.67267578, ...,  0.41406869,\n",
              "        -1.10454895, -0.31840916],\n",
              "       [ 1.83834103,  2.33645719,  1.98252415, ...,  2.28998549,\n",
              "         1.91908301,  2.21963528],\n",
              "       [-1.80840125,  1.22179204, -1.81438851, ..., -1.74506282,\n",
              "        -0.04813821, -0.75120669]])"
            ]
          },
          "metadata": {},
          "execution_count": 100
        }
      ]
    },
    {
      "cell_type": "code",
      "source": [
        "# import train_test_split function\n",
        "from sklearn.model_selection import train_test_split\n",
        "# split dataset into training set and test set\n",
        "Diagnosis_X_train, Diagnosis_X_test, Diagnosis_y_train, Diagnosis_y_test = train_test_split(S_independents, dependent, test_size=0.3, random_state=1)"
      ],
      "metadata": {
        "id": "JUol3MyU1aPj"
      },
      "execution_count": null,
      "outputs": []
    },
    {
      "cell_type": "code",
      "source": [
        "#Training the model\n",
        "# import Gaussian Naive Bayes model\n",
        "from sklearn.naive_bayes import GaussianNB\n",
        "\n",
        "# create a Gaussian Classifier\n",
        "Diagnosis_G_classifer = GaussianNB()\n",
        "\n",
        "# train the model using the training sets\n",
        "Diagnosis_G_classifer.fit(Wine_X_train, Diagnosis_y_train)\n",
        "\n",
        "# predict the response for test dataset\n",
        "Diagnosis_y_pred = Diagnosis_G_classifer.predict(Diagnosis_X_test)"
      ],
      "metadata": {
        "colab": {
          "base_uri": "https://localhost:8080/"
        },
        "id": "XJ_GWrCS1q9w",
        "outputId": "b5ddde66-83a3-4a4a-93c9-20b2d7e1acf8"
      },
      "execution_count": null,
      "outputs": [
        {
          "output_type": "stream",
          "name": "stderr",
          "text": [
            "/usr/local/lib/python3.10/dist-packages/sklearn/utils/validation.py:1143: DataConversionWarning: A column-vector y was passed when a 1d array was expected. Please change the shape of y to (n_samples, ), for example using ravel().\n",
            "  y = column_or_1d(y, warn=True)\n"
          ]
        }
      ]
    },
    {
      "cell_type": "markdown",
      "source": [
        "MULTILABEL ACCURACY"
      ],
      "metadata": {
        "id": "-QWtBqhs2xVl"
      }
    },
    {
      "cell_type": "code",
      "source": [
        "# import scikit-learn metrics module for accuracy calculation\n",
        "from sklearn import metrics\n",
        "\n",
        "# printing accuracy\n",
        "print(\"Accuracy:\", metrics.accuracy_score(Diagnosis_y_test, Diagnosis_y_pred))"
      ],
      "metadata": {
        "colab": {
          "base_uri": "https://localhost:8080/"
        },
        "id": "WfwSUkva15gT",
        "outputId": "6384cb46-4325-44f6-90ad-003b63801aa8"
      },
      "execution_count": null,
      "outputs": [
        {
          "output_type": "stream",
          "name": "stdout",
          "text": [
            "Accuracy: 0.935672514619883\n"
          ]
        }
      ]
    },
    {
      "cell_type": "markdown",
      "source": [
        "MULTILABEL HEATMAP"
      ],
      "metadata": {
        "id": "fxqDPU0N21YM"
      }
    },
    {
      "cell_type": "markdown",
      "source": [
        "CONCLUSION: With an accuracy of 94.4%, this shows that the Bernoulli model is the best fitting model for predicting this data\n",
        "\n",
        "PS: The heatmap cut off due to the way printing works"
      ],
      "metadata": {
        "id": "QTXR3oC32a3O"
      }
    },
    {
      "cell_type": "code",
      "source": [
        "# importing the required modules\n",
        "import seaborn as sns\n",
        "from sklearn.metrics import confusion_matrix\n",
        "\n",
        "# passing actual and predicted values\n",
        "cm_Diagnosis = confusion_matrix(Diagnosis_y_test, Diagnosis_y_pred)\n",
        "\n",
        "# true write data values in each cell of the matrix\n",
        "s1=sns.heatmap(cm_Diagnosis,annot=True)\n",
        "\n",
        "plt.savefig('confusion2.png')\n",
        "plt.show()"
      ],
      "metadata": {
        "colab": {
          "base_uri": "https://localhost:8080/",
          "height": 430
        },
        "id": "feChiinx2AYM",
        "outputId": "df1efd65-845d-472c-a173-6d48ea6def49"
      },
      "execution_count": null,
      "outputs": [
        {
          "output_type": "display_data",
          "data": {
            "text/plain": [
              "<Figure size 640x480 with 2 Axes>"
            ],
            "image/png": "[encoded data removed]"
          },
          "metadata": {}
        }
      ]
    }
  ],
  "metadata": {
    "colab": {
      "provenance": []
    },
    "kernelspec": {
      "display_name": "Python 3 (ipykernel)",
      "language": "python",
      "name": "python3"
    },
    "language_info": {
      "codemirror_mode": {
        "name": "ipython",
        "version": 3
      },
      "file_extension": ".py",
      "mimetype": "text/x-python",
      "name": "python",
      "nbconvert_exporter": "python",
      "pygments_lexer": "ipython3",
      "version": "3.9.12"
    }
  },
  "nbformat": 4,
  "nbformat_minor": 0
}